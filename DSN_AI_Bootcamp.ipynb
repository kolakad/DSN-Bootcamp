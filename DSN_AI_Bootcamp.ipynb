{
  "nbformat": 4,
  "nbformat_minor": 5,
  "metadata": {
    "kernelspec": {
      "display_name": "Python 3",
      "language": "python",
      "name": "python3"
    },
    "language_info": {
      "codemirror_mode": {
        "name": "ipython",
        "version": 3
      },
      "file_extension": ".py",
      "mimetype": "text/x-python",
      "name": "python",
      "nbconvert_exporter": "python",
      "pygments_lexer": "ipython3",
      "version": "3.8.5"
    },
    "colab": {
      "provenance": []
    }
  },
  "cells": [
    {
      "cell_type": "markdown",
      "metadata": {
        "id": "young-calcium"
      },
      "source": [
        "## Importing Libraries"
      ],
      "id": "young-calcium"
    },
    {
      "cell_type": "code",
      "metadata": {
        "id": "specialized-spirit"
      },
      "source": [
        "import pandas as pd\n",
        "import numpy as np\n",
        "import seaborn as sns\n",
        "\n",
        "import warnings\n",
        "warnings.filterwarnings('ignore')\n",
        "\n",
        "import matplotlib.pyplot as plt\n",
        "import seaborn as sns\n",
        "\n",
        "pd.set_option(\"display.max_rows\", None, \"display.max_columns\", None)"
      ],
      "id": "specialized-spirit",
      "execution_count": null,
      "outputs": []
    },
    {
      "cell_type": "code",
      "metadata": {
        "id": "hourly-house",
        "colab": {
          "base_uri": "https://localhost:8080/",
          "height": 328
        },
        "outputId": "6b307084-b018-4cb3-f035-c6a5011b2076"
      },
      "source": [
        "train = pd.read_csv(\"data/Train.csv\", parse_dates=['Date_Customer'])\n",
        "test = pd.read_csv(\"data/Test.csv\", parse_dates=['Date_Customer'])"
      ],
      "id": "hourly-house",
      "execution_count": null,
      "outputs": [
        {
          "output_type": "error",
          "ename": "FileNotFoundError",
          "evalue": "ignored",
          "traceback": [
            "\u001b[0;31m---------------------------------------------------------------------------\u001b[0m",
            "\u001b[0;31mFileNotFoundError\u001b[0m                         Traceback (most recent call last)",
            "\u001b[0;32m<ipython-input-2-8a20c7bf1427>\u001b[0m in \u001b[0;36m<module>\u001b[0;34m()\u001b[0m\n\u001b[0;32m----> 1\u001b[0;31m \u001b[0mtrain\u001b[0m \u001b[0;34m=\u001b[0m \u001b[0mpd\u001b[0m\u001b[0;34m.\u001b[0m\u001b[0mread_csv\u001b[0m\u001b[0;34m(\u001b[0m\u001b[0;34m\"data/Train.csv\"\u001b[0m\u001b[0;34m,\u001b[0m \u001b[0mparse_dates\u001b[0m\u001b[0;34m=\u001b[0m\u001b[0;34m[\u001b[0m\u001b[0;34m'Date_Customer'\u001b[0m\u001b[0;34m]\u001b[0m\u001b[0;34m)\u001b[0m\u001b[0;34m\u001b[0m\u001b[0;34m\u001b[0m\u001b[0m\n\u001b[0m\u001b[1;32m      2\u001b[0m \u001b[0mtest\u001b[0m \u001b[0;34m=\u001b[0m \u001b[0mpd\u001b[0m\u001b[0;34m.\u001b[0m\u001b[0mread_csv\u001b[0m\u001b[0;34m(\u001b[0m\u001b[0;34m\"data/Test.csv\"\u001b[0m\u001b[0;34m,\u001b[0m \u001b[0mparse_dates\u001b[0m\u001b[0;34m=\u001b[0m\u001b[0;34m[\u001b[0m\u001b[0;34m'Date_Customer'\u001b[0m\u001b[0;34m]\u001b[0m\u001b[0;34m)\u001b[0m\u001b[0;34m\u001b[0m\u001b[0;34m\u001b[0m\u001b[0m\n",
            "\u001b[0;32m/usr/local/lib/python3.7/dist-packages/pandas/util/_decorators.py\u001b[0m in \u001b[0;36mwrapper\u001b[0;34m(*args, **kwargs)\u001b[0m\n\u001b[1;32m    309\u001b[0m                     \u001b[0mstacklevel\u001b[0m\u001b[0;34m=\u001b[0m\u001b[0mstacklevel\u001b[0m\u001b[0;34m,\u001b[0m\u001b[0;34m\u001b[0m\u001b[0;34m\u001b[0m\u001b[0m\n\u001b[1;32m    310\u001b[0m                 )\n\u001b[0;32m--> 311\u001b[0;31m             \u001b[0;32mreturn\u001b[0m \u001b[0mfunc\u001b[0m\u001b[0;34m(\u001b[0m\u001b[0;34m*\u001b[0m\u001b[0margs\u001b[0m\u001b[0;34m,\u001b[0m \u001b[0;34m**\u001b[0m\u001b[0mkwargs\u001b[0m\u001b[0;34m)\u001b[0m\u001b[0;34m\u001b[0m\u001b[0;34m\u001b[0m\u001b[0m\n\u001b[0m\u001b[1;32m    312\u001b[0m \u001b[0;34m\u001b[0m\u001b[0m\n\u001b[1;32m    313\u001b[0m         \u001b[0;32mreturn\u001b[0m \u001b[0mwrapper\u001b[0m\u001b[0;34m\u001b[0m\u001b[0;34m\u001b[0m\u001b[0m\n",
            "\u001b[0;32m/usr/local/lib/python3.7/dist-packages/pandas/io/parsers/readers.py\u001b[0m in \u001b[0;36mread_csv\u001b[0;34m(filepath_or_buffer, sep, delimiter, header, names, index_col, usecols, squeeze, prefix, mangle_dupe_cols, dtype, engine, converters, true_values, false_values, skipinitialspace, skiprows, skipfooter, nrows, na_values, keep_default_na, na_filter, verbose, skip_blank_lines, parse_dates, infer_datetime_format, keep_date_col, date_parser, dayfirst, cache_dates, iterator, chunksize, compression, thousands, decimal, lineterminator, quotechar, quoting, doublequote, escapechar, comment, encoding, encoding_errors, dialect, error_bad_lines, warn_bad_lines, on_bad_lines, delim_whitespace, low_memory, memory_map, float_precision, storage_options)\u001b[0m\n\u001b[1;32m    584\u001b[0m     \u001b[0mkwds\u001b[0m\u001b[0;34m.\u001b[0m\u001b[0mupdate\u001b[0m\u001b[0;34m(\u001b[0m\u001b[0mkwds_defaults\u001b[0m\u001b[0;34m)\u001b[0m\u001b[0;34m\u001b[0m\u001b[0;34m\u001b[0m\u001b[0m\n\u001b[1;32m    585\u001b[0m \u001b[0;34m\u001b[0m\u001b[0m\n\u001b[0;32m--> 586\u001b[0;31m     \u001b[0;32mreturn\u001b[0m \u001b[0m_read\u001b[0m\u001b[0;34m(\u001b[0m\u001b[0mfilepath_or_buffer\u001b[0m\u001b[0;34m,\u001b[0m \u001b[0mkwds\u001b[0m\u001b[0;34m)\u001b[0m\u001b[0;34m\u001b[0m\u001b[0;34m\u001b[0m\u001b[0m\n\u001b[0m\u001b[1;32m    587\u001b[0m \u001b[0;34m\u001b[0m\u001b[0m\n\u001b[1;32m    588\u001b[0m \u001b[0;34m\u001b[0m\u001b[0m\n",
            "\u001b[0;32m/usr/local/lib/python3.7/dist-packages/pandas/io/parsers/readers.py\u001b[0m in \u001b[0;36m_read\u001b[0;34m(filepath_or_buffer, kwds)\u001b[0m\n\u001b[1;32m    480\u001b[0m \u001b[0;34m\u001b[0m\u001b[0m\n\u001b[1;32m    481\u001b[0m     \u001b[0;31m# Create the parser.\u001b[0m\u001b[0;34m\u001b[0m\u001b[0;34m\u001b[0m\u001b[0;34m\u001b[0m\u001b[0m\n\u001b[0;32m--> 482\u001b[0;31m     \u001b[0mparser\u001b[0m \u001b[0;34m=\u001b[0m \u001b[0mTextFileReader\u001b[0m\u001b[0;34m(\u001b[0m\u001b[0mfilepath_or_buffer\u001b[0m\u001b[0;34m,\u001b[0m \u001b[0;34m**\u001b[0m\u001b[0mkwds\u001b[0m\u001b[0;34m)\u001b[0m\u001b[0;34m\u001b[0m\u001b[0;34m\u001b[0m\u001b[0m\n\u001b[0m\u001b[1;32m    483\u001b[0m \u001b[0;34m\u001b[0m\u001b[0m\n\u001b[1;32m    484\u001b[0m     \u001b[0;32mif\u001b[0m \u001b[0mchunksize\u001b[0m \u001b[0;32mor\u001b[0m \u001b[0miterator\u001b[0m\u001b[0;34m:\u001b[0m\u001b[0;34m\u001b[0m\u001b[0;34m\u001b[0m\u001b[0m\n",
            "\u001b[0;32m/usr/local/lib/python3.7/dist-packages/pandas/io/parsers/readers.py\u001b[0m in \u001b[0;36m__init__\u001b[0;34m(self, f, engine, **kwds)\u001b[0m\n\u001b[1;32m    809\u001b[0m             \u001b[0mself\u001b[0m\u001b[0;34m.\u001b[0m\u001b[0moptions\u001b[0m\u001b[0;34m[\u001b[0m\u001b[0;34m\"has_index_names\"\u001b[0m\u001b[0;34m]\u001b[0m \u001b[0;34m=\u001b[0m \u001b[0mkwds\u001b[0m\u001b[0;34m[\u001b[0m\u001b[0;34m\"has_index_names\"\u001b[0m\u001b[0;34m]\u001b[0m\u001b[0;34m\u001b[0m\u001b[0;34m\u001b[0m\u001b[0m\n\u001b[1;32m    810\u001b[0m \u001b[0;34m\u001b[0m\u001b[0m\n\u001b[0;32m--> 811\u001b[0;31m         \u001b[0mself\u001b[0m\u001b[0;34m.\u001b[0m\u001b[0m_engine\u001b[0m \u001b[0;34m=\u001b[0m \u001b[0mself\u001b[0m\u001b[0;34m.\u001b[0m\u001b[0m_make_engine\u001b[0m\u001b[0;34m(\u001b[0m\u001b[0mself\u001b[0m\u001b[0;34m.\u001b[0m\u001b[0mengine\u001b[0m\u001b[0;34m)\u001b[0m\u001b[0;34m\u001b[0m\u001b[0;34m\u001b[0m\u001b[0m\n\u001b[0m\u001b[1;32m    812\u001b[0m \u001b[0;34m\u001b[0m\u001b[0m\n\u001b[1;32m    813\u001b[0m     \u001b[0;32mdef\u001b[0m \u001b[0mclose\u001b[0m\u001b[0;34m(\u001b[0m\u001b[0mself\u001b[0m\u001b[0;34m)\u001b[0m\u001b[0;34m:\u001b[0m\u001b[0;34m\u001b[0m\u001b[0;34m\u001b[0m\u001b[0m\n",
            "\u001b[0;32m/usr/local/lib/python3.7/dist-packages/pandas/io/parsers/readers.py\u001b[0m in \u001b[0;36m_make_engine\u001b[0;34m(self, engine)\u001b[0m\n\u001b[1;32m   1038\u001b[0m             )\n\u001b[1;32m   1039\u001b[0m         \u001b[0;31m# error: Too many arguments for \"ParserBase\"\u001b[0m\u001b[0;34m\u001b[0m\u001b[0;34m\u001b[0m\u001b[0;34m\u001b[0m\u001b[0m\n\u001b[0;32m-> 1040\u001b[0;31m         \u001b[0;32mreturn\u001b[0m \u001b[0mmapping\u001b[0m\u001b[0;34m[\u001b[0m\u001b[0mengine\u001b[0m\u001b[0;34m]\u001b[0m\u001b[0;34m(\u001b[0m\u001b[0mself\u001b[0m\u001b[0;34m.\u001b[0m\u001b[0mf\u001b[0m\u001b[0;34m,\u001b[0m \u001b[0;34m**\u001b[0m\u001b[0mself\u001b[0m\u001b[0;34m.\u001b[0m\u001b[0moptions\u001b[0m\u001b[0;34m)\u001b[0m  \u001b[0;31m# type: ignore[call-arg]\u001b[0m\u001b[0;34m\u001b[0m\u001b[0;34m\u001b[0m\u001b[0m\n\u001b[0m\u001b[1;32m   1041\u001b[0m \u001b[0;34m\u001b[0m\u001b[0m\n\u001b[1;32m   1042\u001b[0m     \u001b[0;32mdef\u001b[0m \u001b[0m_failover_to_python\u001b[0m\u001b[0;34m(\u001b[0m\u001b[0mself\u001b[0m\u001b[0;34m)\u001b[0m\u001b[0;34m:\u001b[0m\u001b[0;34m\u001b[0m\u001b[0;34m\u001b[0m\u001b[0m\n",
            "\u001b[0;32m/usr/local/lib/python3.7/dist-packages/pandas/io/parsers/c_parser_wrapper.py\u001b[0m in \u001b[0;36m__init__\u001b[0;34m(self, src, **kwds)\u001b[0m\n\u001b[1;32m     49\u001b[0m \u001b[0;34m\u001b[0m\u001b[0m\n\u001b[1;32m     50\u001b[0m         \u001b[0;31m# open handles\u001b[0m\u001b[0;34m\u001b[0m\u001b[0;34m\u001b[0m\u001b[0;34m\u001b[0m\u001b[0m\n\u001b[0;32m---> 51\u001b[0;31m         \u001b[0mself\u001b[0m\u001b[0;34m.\u001b[0m\u001b[0m_open_handles\u001b[0m\u001b[0;34m(\u001b[0m\u001b[0msrc\u001b[0m\u001b[0;34m,\u001b[0m \u001b[0mkwds\u001b[0m\u001b[0;34m)\u001b[0m\u001b[0;34m\u001b[0m\u001b[0;34m\u001b[0m\u001b[0m\n\u001b[0m\u001b[1;32m     52\u001b[0m         \u001b[0;32massert\u001b[0m \u001b[0mself\u001b[0m\u001b[0;34m.\u001b[0m\u001b[0mhandles\u001b[0m \u001b[0;32mis\u001b[0m \u001b[0;32mnot\u001b[0m \u001b[0;32mNone\u001b[0m\u001b[0;34m\u001b[0m\u001b[0;34m\u001b[0m\u001b[0m\n\u001b[1;32m     53\u001b[0m \u001b[0;34m\u001b[0m\u001b[0m\n",
            "\u001b[0;32m/usr/local/lib/python3.7/dist-packages/pandas/io/parsers/base_parser.py\u001b[0m in \u001b[0;36m_open_handles\u001b[0;34m(self, src, kwds)\u001b[0m\n\u001b[1;32m    227\u001b[0m             \u001b[0mmemory_map\u001b[0m\u001b[0;34m=\u001b[0m\u001b[0mkwds\u001b[0m\u001b[0;34m.\u001b[0m\u001b[0mget\u001b[0m\u001b[0;34m(\u001b[0m\u001b[0;34m\"memory_map\"\u001b[0m\u001b[0;34m,\u001b[0m \u001b[0;32mFalse\u001b[0m\u001b[0;34m)\u001b[0m\u001b[0;34m,\u001b[0m\u001b[0;34m\u001b[0m\u001b[0;34m\u001b[0m\u001b[0m\n\u001b[1;32m    228\u001b[0m             \u001b[0mstorage_options\u001b[0m\u001b[0;34m=\u001b[0m\u001b[0mkwds\u001b[0m\u001b[0;34m.\u001b[0m\u001b[0mget\u001b[0m\u001b[0;34m(\u001b[0m\u001b[0;34m\"storage_options\"\u001b[0m\u001b[0;34m,\u001b[0m \u001b[0;32mNone\u001b[0m\u001b[0;34m)\u001b[0m\u001b[0;34m,\u001b[0m\u001b[0;34m\u001b[0m\u001b[0;34m\u001b[0m\u001b[0m\n\u001b[0;32m--> 229\u001b[0;31m             \u001b[0merrors\u001b[0m\u001b[0;34m=\u001b[0m\u001b[0mkwds\u001b[0m\u001b[0;34m.\u001b[0m\u001b[0mget\u001b[0m\u001b[0;34m(\u001b[0m\u001b[0;34m\"encoding_errors\"\u001b[0m\u001b[0;34m,\u001b[0m \u001b[0;34m\"strict\"\u001b[0m\u001b[0;34m)\u001b[0m\u001b[0;34m,\u001b[0m\u001b[0;34m\u001b[0m\u001b[0;34m\u001b[0m\u001b[0m\n\u001b[0m\u001b[1;32m    230\u001b[0m         )\n\u001b[1;32m    231\u001b[0m \u001b[0;34m\u001b[0m\u001b[0m\n",
            "\u001b[0;32m/usr/local/lib/python3.7/dist-packages/pandas/io/common.py\u001b[0m in \u001b[0;36mget_handle\u001b[0;34m(path_or_buf, mode, encoding, compression, memory_map, is_text, errors, storage_options)\u001b[0m\n\u001b[1;32m    705\u001b[0m                 \u001b[0mencoding\u001b[0m\u001b[0;34m=\u001b[0m\u001b[0mioargs\u001b[0m\u001b[0;34m.\u001b[0m\u001b[0mencoding\u001b[0m\u001b[0;34m,\u001b[0m\u001b[0;34m\u001b[0m\u001b[0;34m\u001b[0m\u001b[0m\n\u001b[1;32m    706\u001b[0m                 \u001b[0merrors\u001b[0m\u001b[0;34m=\u001b[0m\u001b[0merrors\u001b[0m\u001b[0;34m,\u001b[0m\u001b[0;34m\u001b[0m\u001b[0;34m\u001b[0m\u001b[0m\n\u001b[0;32m--> 707\u001b[0;31m                 \u001b[0mnewline\u001b[0m\u001b[0;34m=\u001b[0m\u001b[0;34m\"\"\u001b[0m\u001b[0;34m,\u001b[0m\u001b[0;34m\u001b[0m\u001b[0;34m\u001b[0m\u001b[0m\n\u001b[0m\u001b[1;32m    708\u001b[0m             )\n\u001b[1;32m    709\u001b[0m         \u001b[0;32melse\u001b[0m\u001b[0;34m:\u001b[0m\u001b[0;34m\u001b[0m\u001b[0;34m\u001b[0m\u001b[0m\n",
            "\u001b[0;31mFileNotFoundError\u001b[0m: [Errno 2] No such file or directory: 'data/Train.csv'"
          ]
        }
      ]
    },
    {
      "cell_type": "markdown",
      "metadata": {
        "id": "flying-treaty"
      },
      "source": [
        "## User Defined Functions"
      ],
      "id": "flying-treaty"
    },
    {
      "cell_type": "code",
      "metadata": {
        "id": "boring-instrumentation"
      },
      "source": [
        "def quality_report(df):\n",
        "    \"\"\"\n",
        "    Description: Displays quality of data in terms of missing values, \n",
        "    unique numbers, datatypes etc.\n",
        "    \n",
        "    Arguments: Dataframe\n",
        "    \"\"\"\n",
        "    dtypes = df.dtypes\n",
        "    nuniq = df.T.apply(lambda x: x.nunique(), axis=1)\n",
        "    total = df.isnull().sum().sort_values(ascending = False)\n",
        "    percent = (df.isnull().sum()/df.isnull().count()*100).sort_values(ascending = False)\n",
        "    quality_df  = pd.concat([total, percent, nuniq, dtypes], axis=1, keys=['Total NaN', 'Percent of NaN','Nunique', 'Dtype'])\n",
        "    display(quality_df)\n",
        "\n",
        "\n",
        "def object_count_plot(df):\n",
        "    \"\"\"\n",
        "    Description : Plot countplot for all categorical features \n",
        "    present in the dataframe passed\n",
        "    \n",
        "    Argument : Dataframe\n",
        "    \"\"\"\n",
        "    \n",
        "    for var in df.columns:\n",
        "        if df[var].dtype == 'object':\n",
        "            print(df[var].value_counts())\n",
        "            plt.figure(figsize=(12,5))\n",
        "            g = sns.countplot(x=var,data=df)\n",
        "            g.set_xticklabels(g.get_xticklabels(), rotation=90, ha=\"right\")\n",
        "            plt.tight_layout()\n",
        "            plt.show()\n",
        "            \n",
        "def numeric_distribution_plot(df):\n",
        "    \"\"\"\n",
        "    Description : Gives distribution plot for all the numeric features\n",
        "    in the dataframe passed\n",
        "    \n",
        "    Argument : Dataframe\n",
        "    \"\"\"\n",
        "    for col in df.columns:\n",
        "        if df[col].dtype != 'object':\n",
        "            print(df[col].describe())\n",
        "            plt.figure(figsize=(12,5))\n",
        "            plt.title(\"Distribution of \"+col)\n",
        "            ax = sns.distplot(df[col].dropna())\n",
        "            plt.tight_layout()\n",
        "            plt.show()"
      ],
      "id": "boring-instrumentation",
      "execution_count": null,
      "outputs": []
    },
    {
      "cell_type": "markdown",
      "metadata": {
        "id": "narrow-latin"
      },
      "source": [
        "## Quick EDA"
      ],
      "id": "narrow-latin"
    },
    {
      "cell_type": "code",
      "metadata": {
        "scrolled": true,
        "id": "continent-conviction",
        "outputId": "877c2ba8-7e89-4160-94f1-6e8d2189403c"
      },
      "source": [
        "quality_report(train)"
      ],
      "id": "continent-conviction",
      "execution_count": null,
      "outputs": [
        {
          "data": {
            "text/html": [
              "<div>\n",
              "<style scoped>\n",
              "    .dataframe tbody tr th:only-of-type {\n",
              "        vertical-align: middle;\n",
              "    }\n",
              "\n",
              "    .dataframe tbody tr th {\n",
              "        vertical-align: top;\n",
              "    }\n",
              "\n",
              "    .dataframe thead th {\n",
              "        text-align: right;\n",
              "    }\n",
              "</style>\n",
              "<table border=\"1\" class=\"dataframe\">\n",
              "  <thead>\n",
              "    <tr style=\"text-align: right;\">\n",
              "      <th></th>\n",
              "      <th>Total NaN</th>\n",
              "      <th>Percent of NaN</th>\n",
              "      <th>Nunique</th>\n",
              "      <th>Dtype</th>\n",
              "    </tr>\n",
              "  </thead>\n",
              "  <tbody>\n",
              "    <tr>\n",
              "      <th>Disposable_Income</th>\n",
              "      <td>16</td>\n",
              "      <td>1.020408</td>\n",
              "      <td>1431</td>\n",
              "      <td>float64</td>\n",
              "    </tr>\n",
              "    <tr>\n",
              "      <th>ID</th>\n",
              "      <td>0</td>\n",
              "      <td>0.000000</td>\n",
              "      <td>1568</td>\n",
              "      <td>object</td>\n",
              "    </tr>\n",
              "    <tr>\n",
              "      <th>Amount_on_Fruits</th>\n",
              "      <td>0</td>\n",
              "      <td>0.000000</td>\n",
              "      <td>148</td>\n",
              "      <td>int64</td>\n",
              "    </tr>\n",
              "    <tr>\n",
              "      <th>Any_Complain</th>\n",
              "      <td>0</td>\n",
              "      <td>0.000000</td>\n",
              "      <td>2</td>\n",
              "      <td>int64</td>\n",
              "    </tr>\n",
              "    <tr>\n",
              "      <th>Cmp2Accepted</th>\n",
              "      <td>0</td>\n",
              "      <td>0.000000</td>\n",
              "      <td>2</td>\n",
              "      <td>int64</td>\n",
              "    </tr>\n",
              "    <tr>\n",
              "      <th>Cmp1Accepted</th>\n",
              "      <td>0</td>\n",
              "      <td>0.000000</td>\n",
              "      <td>2</td>\n",
              "      <td>int64</td>\n",
              "    </tr>\n",
              "    <tr>\n",
              "      <th>Cmp5Accepted</th>\n",
              "      <td>0</td>\n",
              "      <td>0.000000</td>\n",
              "      <td>2</td>\n",
              "      <td>int64</td>\n",
              "    </tr>\n",
              "    <tr>\n",
              "      <th>Cmp4Accepted</th>\n",
              "      <td>0</td>\n",
              "      <td>0.000000</td>\n",
              "      <td>2</td>\n",
              "      <td>int64</td>\n",
              "    </tr>\n",
              "    <tr>\n",
              "      <th>Cmp3Accepted</th>\n",
              "      <td>0</td>\n",
              "      <td>0.000000</td>\n",
              "      <td>2</td>\n",
              "      <td>int64</td>\n",
              "    </tr>\n",
              "    <tr>\n",
              "      <th>WebVisitsMonth</th>\n",
              "      <td>0</td>\n",
              "      <td>0.000000</td>\n",
              "      <td>16</td>\n",
              "      <td>int64</td>\n",
              "    </tr>\n",
              "    <tr>\n",
              "      <th>Amount_on_GoldProds</th>\n",
              "      <td>0</td>\n",
              "      <td>0.000000</td>\n",
              "      <td>199</td>\n",
              "      <td>int64</td>\n",
              "    </tr>\n",
              "    <tr>\n",
              "      <th>Amount_on_SweetProducts</th>\n",
              "      <td>0</td>\n",
              "      <td>0.000000</td>\n",
              "      <td>163</td>\n",
              "      <td>int64</td>\n",
              "    </tr>\n",
              "    <tr>\n",
              "      <th>Amount_on_FishProducts</th>\n",
              "      <td>0</td>\n",
              "      <td>0.000000</td>\n",
              "      <td>170</td>\n",
              "      <td>int64</td>\n",
              "    </tr>\n",
              "    <tr>\n",
              "      <th>Amount_on_MeatProducts</th>\n",
              "      <td>0</td>\n",
              "      <td>0.000000</td>\n",
              "      <td>486</td>\n",
              "      <td>int64</td>\n",
              "    </tr>\n",
              "    <tr>\n",
              "      <th>Amount_on_Wines</th>\n",
              "      <td>0</td>\n",
              "      <td>0.000000</td>\n",
              "      <td>643</td>\n",
              "      <td>int64</td>\n",
              "    </tr>\n",
              "    <tr>\n",
              "      <th>Year_of_Birth</th>\n",
              "      <td>0</td>\n",
              "      <td>0.000000</td>\n",
              "      <td>56</td>\n",
              "      <td>int64</td>\n",
              "    </tr>\n",
              "    <tr>\n",
              "      <th>StorePurchases</th>\n",
              "      <td>0</td>\n",
              "      <td>0.000000</td>\n",
              "      <td>14</td>\n",
              "      <td>int64</td>\n",
              "    </tr>\n",
              "    <tr>\n",
              "      <th>CatalogPurchases</th>\n",
              "      <td>0</td>\n",
              "      <td>0.000000</td>\n",
              "      <td>14</td>\n",
              "      <td>int64</td>\n",
              "    </tr>\n",
              "    <tr>\n",
              "      <th>WebPurchases</th>\n",
              "      <td>0</td>\n",
              "      <td>0.000000</td>\n",
              "      <td>14</td>\n",
              "      <td>int64</td>\n",
              "    </tr>\n",
              "    <tr>\n",
              "      <th>Discounted_Purchases</th>\n",
              "      <td>0</td>\n",
              "      <td>0.000000</td>\n",
              "      <td>15</td>\n",
              "      <td>int64</td>\n",
              "    </tr>\n",
              "    <tr>\n",
              "      <th>Recency</th>\n",
              "      <td>0</td>\n",
              "      <td>0.000000</td>\n",
              "      <td>100</td>\n",
              "      <td>int64</td>\n",
              "    </tr>\n",
              "    <tr>\n",
              "      <th>Date_Customer</th>\n",
              "      <td>0</td>\n",
              "      <td>0.000000</td>\n",
              "      <td>619</td>\n",
              "      <td>datetime64[ns]</td>\n",
              "    </tr>\n",
              "    <tr>\n",
              "      <th>No_of_Teen_in_home</th>\n",
              "      <td>0</td>\n",
              "      <td>0.000000</td>\n",
              "      <td>3</td>\n",
              "      <td>int64</td>\n",
              "    </tr>\n",
              "    <tr>\n",
              "      <th>No_of_Kids_in_home</th>\n",
              "      <td>0</td>\n",
              "      <td>0.000000</td>\n",
              "      <td>3</td>\n",
              "      <td>int64</td>\n",
              "    </tr>\n",
              "    <tr>\n",
              "      <th>Marital_Status</th>\n",
              "      <td>0</td>\n",
              "      <td>0.000000</td>\n",
              "      <td>8</td>\n",
              "      <td>object</td>\n",
              "    </tr>\n",
              "    <tr>\n",
              "      <th>Education_Level</th>\n",
              "      <td>0</td>\n",
              "      <td>0.000000</td>\n",
              "      <td>5</td>\n",
              "      <td>object</td>\n",
              "    </tr>\n",
              "    <tr>\n",
              "      <th>Response</th>\n",
              "      <td>0</td>\n",
              "      <td>0.000000</td>\n",
              "      <td>2</td>\n",
              "      <td>int64</td>\n",
              "    </tr>\n",
              "  </tbody>\n",
              "</table>\n",
              "</div>"
            ],
            "text/plain": [
              "                         Total NaN  Percent of NaN  Nunique           Dtype\n",
              "Disposable_Income               16        1.020408     1431         float64\n",
              "ID                               0        0.000000     1568          object\n",
              "Amount_on_Fruits                 0        0.000000      148           int64\n",
              "Any_Complain                     0        0.000000        2           int64\n",
              "Cmp2Accepted                     0        0.000000        2           int64\n",
              "Cmp1Accepted                     0        0.000000        2           int64\n",
              "Cmp5Accepted                     0        0.000000        2           int64\n",
              "Cmp4Accepted                     0        0.000000        2           int64\n",
              "Cmp3Accepted                     0        0.000000        2           int64\n",
              "WebVisitsMonth                   0        0.000000       16           int64\n",
              "Amount_on_GoldProds              0        0.000000      199           int64\n",
              "Amount_on_SweetProducts          0        0.000000      163           int64\n",
              "Amount_on_FishProducts           0        0.000000      170           int64\n",
              "Amount_on_MeatProducts           0        0.000000      486           int64\n",
              "Amount_on_Wines                  0        0.000000      643           int64\n",
              "Year_of_Birth                    0        0.000000       56           int64\n",
              "StorePurchases                   0        0.000000       14           int64\n",
              "CatalogPurchases                 0        0.000000       14           int64\n",
              "WebPurchases                     0        0.000000       14           int64\n",
              "Discounted_Purchases             0        0.000000       15           int64\n",
              "Recency                          0        0.000000      100           int64\n",
              "Date_Customer                    0        0.000000      619  datetime64[ns]\n",
              "No_of_Teen_in_home               0        0.000000        3           int64\n",
              "No_of_Kids_in_home               0        0.000000        3           int64\n",
              "Marital_Status                   0        0.000000        8          object\n",
              "Education_Level                  0        0.000000        5          object\n",
              "Response                         0        0.000000        2           int64"
            ]
          },
          "metadata": {},
          "output_type": "display_data"
        }
      ]
    },
    {
      "cell_type": "code",
      "metadata": {
        "id": "centered-prayer",
        "outputId": "c2106ad6-15f9-4685-c518-3697e8879cde"
      },
      "source": [
        "sns.countplot(train['Response'])"
      ],
      "id": "centered-prayer",
      "execution_count": null,
      "outputs": [
        {
          "data": {
            "text/plain": [
              "<AxesSubplot:xlabel='Response', ylabel='count'>"
            ]
          },
          "execution_count": 5,
          "metadata": {},
          "output_type": "execute_result"
        },
        {
          "data": {
            "image/png": "[encoded data removed]",
            "text/plain": [
              "<Figure size 432x288 with 1 Axes>"
            ]
          },
          "metadata": {
            "needs_background": "light"
          },
          "output_type": "display_data"
        }
      ]
    },
    {
      "cell_type": "code",
      "metadata": {
        "id": "streaming-separate"
      },
      "source": [
        "numeric_distribution_plot(train)"
      ],
      "id": "streaming-separate",
      "execution_count": null,
      "outputs": []
    },
    {
      "cell_type": "code",
      "metadata": {
        "id": "stupid-marsh",
        "outputId": "139f01c7-b54c-4a1d-c73c-5e5af69042b4"
      },
      "source": [
        "train.describe()"
      ],
      "id": "stupid-marsh",
      "execution_count": null,
      "outputs": [
        {
          "data": {
            "text/html": [
              "<div>\n",
              "<style scoped>\n",
              "    .dataframe tbody tr th:only-of-type {\n",
              "        vertical-align: middle;\n",
              "    }\n",
              "\n",
              "    .dataframe tbody tr th {\n",
              "        vertical-align: top;\n",
              "    }\n",
              "\n",
              "    .dataframe thead th {\n",
              "        text-align: right;\n",
              "    }\n",
              "</style>\n",
              "<table border=\"1\" class=\"dataframe\">\n",
              "  <thead>\n",
              "    <tr style=\"text-align: right;\">\n",
              "      <th></th>\n",
              "      <th>Year_of_Birth</th>\n",
              "      <th>Disposable_Income</th>\n",
              "      <th>No_of_Kids_in_home</th>\n",
              "      <th>No_of_Teen_in_home</th>\n",
              "      <th>Recency</th>\n",
              "      <th>Discounted_Purchases</th>\n",
              "      <th>WebPurchases</th>\n",
              "      <th>CatalogPurchases</th>\n",
              "      <th>StorePurchases</th>\n",
              "      <th>Amount_on_Wines</th>\n",
              "      <th>Amount_on_Fruits</th>\n",
              "      <th>Amount_on_MeatProducts</th>\n",
              "      <th>Amount_on_FishProducts</th>\n",
              "      <th>Amount_on_SweetProducts</th>\n",
              "      <th>Amount_on_GoldProds</th>\n",
              "      <th>WebVisitsMonth</th>\n",
              "      <th>Cmp3Accepted</th>\n",
              "      <th>Cmp4Accepted</th>\n",
              "      <th>Cmp5Accepted</th>\n",
              "      <th>Cmp1Accepted</th>\n",
              "      <th>Cmp2Accepted</th>\n",
              "      <th>Any_Complain</th>\n",
              "      <th>Response</th>\n",
              "    </tr>\n",
              "  </thead>\n",
              "  <tbody>\n",
              "    <tr>\n",
              "      <th>count</th>\n",
              "      <td>1568.000000</td>\n",
              "      <td>1552.000000</td>\n",
              "      <td>1568.000000</td>\n",
              "      <td>1568.000000</td>\n",
              "      <td>1568.000000</td>\n",
              "      <td>1568.000000</td>\n",
              "      <td>1568.000000</td>\n",
              "      <td>1568.000000</td>\n",
              "      <td>1568.000000</td>\n",
              "      <td>1568.000000</td>\n",
              "      <td>1568.000000</td>\n",
              "      <td>1568.000000</td>\n",
              "      <td>1568.000000</td>\n",
              "      <td>1568.000000</td>\n",
              "      <td>1568.000000</td>\n",
              "      <td>1568.000000</td>\n",
              "      <td>1568.000000</td>\n",
              "      <td>1568.000000</td>\n",
              "      <td>1568.000000</td>\n",
              "      <td>1568.000000</td>\n",
              "      <td>1568.000000</td>\n",
              "      <td>1568.000000</td>\n",
              "      <td>1568.000000</td>\n",
              "    </tr>\n",
              "    <tr>\n",
              "      <th>mean</th>\n",
              "      <td>1970.073342</td>\n",
              "      <td>62381.186598</td>\n",
              "      <td>0.460459</td>\n",
              "      <td>0.497449</td>\n",
              "      <td>55.408801</td>\n",
              "      <td>2.292730</td>\n",
              "      <td>4.001276</td>\n",
              "      <td>2.665816</td>\n",
              "      <td>5.703444</td>\n",
              "      <td>303.190051</td>\n",
              "      <td>29.091199</td>\n",
              "      <td>168.376276</td>\n",
              "      <td>37.166454</td>\n",
              "      <td>26.800383</td>\n",
              "      <td>43.739158</td>\n",
              "      <td>5.326531</td>\n",
              "      <td>0.072704</td>\n",
              "      <td>0.072704</td>\n",
              "      <td>0.080357</td>\n",
              "      <td>0.064413</td>\n",
              "      <td>0.012755</td>\n",
              "      <td>0.008291</td>\n",
              "      <td>0.152423</td>\n",
              "    </tr>\n",
              "    <tr>\n",
              "      <th>std</th>\n",
              "      <td>11.920781</td>\n",
              "      <td>32089.169563</td>\n",
              "      <td>0.540361</td>\n",
              "      <td>0.544151</td>\n",
              "      <td>28.788037</td>\n",
              "      <td>1.937544</td>\n",
              "      <td>2.773748</td>\n",
              "      <td>3.043493</td>\n",
              "      <td>3.260553</td>\n",
              "      <td>340.141396</td>\n",
              "      <td>39.565637</td>\n",
              "      <td>233.419980</td>\n",
              "      <td>53.994951</td>\n",
              "      <td>40.857657</td>\n",
              "      <td>51.591557</td>\n",
              "      <td>2.468023</td>\n",
              "      <td>0.259733</td>\n",
              "      <td>0.259733</td>\n",
              "      <td>0.271932</td>\n",
              "      <td>0.245566</td>\n",
              "      <td>0.112252</td>\n",
              "      <td>0.090705</td>\n",
              "      <td>0.359546</td>\n",
              "    </tr>\n",
              "    <tr>\n",
              "      <th>min</th>\n",
              "      <td>1900.000000</td>\n",
              "      <td>2076.000000</td>\n",
              "      <td>0.000000</td>\n",
              "      <td>0.000000</td>\n",
              "      <td>7.000000</td>\n",
              "      <td>0.000000</td>\n",
              "      <td>0.000000</td>\n",
              "      <td>0.000000</td>\n",
              "      <td>0.000000</td>\n",
              "      <td>5.000000</td>\n",
              "      <td>3.000000</td>\n",
              "      <td>0.000000</td>\n",
              "      <td>0.000000</td>\n",
              "      <td>0.000000</td>\n",
              "      <td>0.000000</td>\n",
              "      <td>0.000000</td>\n",
              "      <td>0.000000</td>\n",
              "      <td>0.000000</td>\n",
              "      <td>0.000000</td>\n",
              "      <td>0.000000</td>\n",
              "      <td>0.000000</td>\n",
              "      <td>0.000000</td>\n",
              "      <td>0.000000</td>\n",
              "    </tr>\n",
              "    <tr>\n",
              "      <th>25%</th>\n",
              "      <td>1960.000000</td>\n",
              "      <td>41612.400000</td>\n",
              "      <td>0.000000</td>\n",
              "      <td>0.000000</td>\n",
              "      <td>31.000000</td>\n",
              "      <td>1.000000</td>\n",
              "      <td>2.000000</td>\n",
              "      <td>0.000000</td>\n",
              "      <td>3.000000</td>\n",
              "      <td>27.000000</td>\n",
              "      <td>4.000000</td>\n",
              "      <td>15.000000</td>\n",
              "      <td>3.000000</td>\n",
              "      <td>1.000000</td>\n",
              "      <td>8.000000</td>\n",
              "      <td>3.000000</td>\n",
              "      <td>0.000000</td>\n",
              "      <td>0.000000</td>\n",
              "      <td>0.000000</td>\n",
              "      <td>0.000000</td>\n",
              "      <td>0.000000</td>\n",
              "      <td>0.000000</td>\n",
              "      <td>0.000000</td>\n",
              "    </tr>\n",
              "    <tr>\n",
              "      <th>50%</th>\n",
              "      <td>1971.000000</td>\n",
              "      <td>60964.200000</td>\n",
              "      <td>0.000000</td>\n",
              "      <td>0.000000</td>\n",
              "      <td>56.000000</td>\n",
              "      <td>2.000000</td>\n",
              "      <td>3.000000</td>\n",
              "      <td>2.000000</td>\n",
              "      <td>5.000000</td>\n",
              "      <td>167.000000</td>\n",
              "      <td>11.000000</td>\n",
              "      <td>64.000000</td>\n",
              "      <td>12.000000</td>\n",
              "      <td>8.000000</td>\n",
              "      <td>25.000000</td>\n",
              "      <td>6.000000</td>\n",
              "      <td>0.000000</td>\n",
              "      <td>0.000000</td>\n",
              "      <td>0.000000</td>\n",
              "      <td>0.000000</td>\n",
              "      <td>0.000000</td>\n",
              "      <td>0.000000</td>\n",
              "      <td>0.000000</td>\n",
              "    </tr>\n",
              "    <tr>\n",
              "      <th>75%</th>\n",
              "      <td>1979.000000</td>\n",
              "      <td>81493.200000</td>\n",
              "      <td>1.000000</td>\n",
              "      <td>1.000000</td>\n",
              "      <td>80.000000</td>\n",
              "      <td>3.000000</td>\n",
              "      <td>6.000000</td>\n",
              "      <td>4.000000</td>\n",
              "      <td>8.000000</td>\n",
              "      <td>499.500000</td>\n",
              "      <td>36.000000</td>\n",
              "      <td>232.000000</td>\n",
              "      <td>49.250000</td>\n",
              "      <td>33.000000</td>\n",
              "      <td>56.000000</td>\n",
              "      <td>7.000000</td>\n",
              "      <td>0.000000</td>\n",
              "      <td>0.000000</td>\n",
              "      <td>0.000000</td>\n",
              "      <td>0.000000</td>\n",
              "      <td>0.000000</td>\n",
              "      <td>0.000000</td>\n",
              "      <td>0.000000</td>\n",
              "    </tr>\n",
              "    <tr>\n",
              "      <th>max</th>\n",
              "      <td>1997.000000</td>\n",
              "      <td>799999.200000</td>\n",
              "      <td>2.000000</td>\n",
              "      <td>2.000000</td>\n",
              "      <td>106.000000</td>\n",
              "      <td>15.000000</td>\n",
              "      <td>27.000000</td>\n",
              "      <td>28.000000</td>\n",
              "      <td>13.000000</td>\n",
              "      <td>1498.000000</td>\n",
              "      <td>202.000000</td>\n",
              "      <td>1725.000000</td>\n",
              "      <td>259.000000</td>\n",
              "      <td>263.000000</td>\n",
              "      <td>362.000000</td>\n",
              "      <td>20.000000</td>\n",
              "      <td>1.000000</td>\n",
              "      <td>1.000000</td>\n",
              "      <td>1.000000</td>\n",
              "      <td>1.000000</td>\n",
              "      <td>1.000000</td>\n",
              "      <td>1.000000</td>\n",
              "      <td>1.000000</td>\n",
              "    </tr>\n",
              "  </tbody>\n",
              "</table>\n",
              "</div>"
            ],
            "text/plain": [
              "       Year_of_Birth  Disposable_Income  No_of_Kids_in_home  \\\n",
              "count    1568.000000        1552.000000         1568.000000   \n",
              "mean     1970.073342       62381.186598            0.460459   \n",
              "std        11.920781       32089.169563            0.540361   \n",
              "min      1900.000000        2076.000000            0.000000   \n",
              "25%      1960.000000       41612.400000            0.000000   \n",
              "50%      1971.000000       60964.200000            0.000000   \n",
              "75%      1979.000000       81493.200000            1.000000   \n",
              "max      1997.000000      799999.200000            2.000000   \n",
              "\n",
              "       No_of_Teen_in_home      Recency  Discounted_Purchases  WebPurchases  \\\n",
              "count         1568.000000  1568.000000           1568.000000   1568.000000   \n",
              "mean             0.497449    55.408801              2.292730      4.001276   \n",
              "std              0.544151    28.788037              1.937544      2.773748   \n",
              "min              0.000000     7.000000              0.000000      0.000000   \n",
              "25%              0.000000    31.000000              1.000000      2.000000   \n",
              "50%              0.000000    56.000000              2.000000      3.000000   \n",
              "75%              1.000000    80.000000              3.000000      6.000000   \n",
              "max              2.000000   106.000000             15.000000     27.000000   \n",
              "\n",
              "       CatalogPurchases  StorePurchases  Amount_on_Wines  Amount_on_Fruits  \\\n",
              "count       1568.000000     1568.000000      1568.000000       1568.000000   \n",
              "mean           2.665816        5.703444       303.190051         29.091199   \n",
              "std            3.043493        3.260553       340.141396         39.565637   \n",
              "min            0.000000        0.000000         5.000000          3.000000   \n",
              "25%            0.000000        3.000000        27.000000          4.000000   \n",
              "50%            2.000000        5.000000       167.000000         11.000000   \n",
              "75%            4.000000        8.000000       499.500000         36.000000   \n",
              "max           28.000000       13.000000      1498.000000        202.000000   \n",
              "\n",
              "       Amount_on_MeatProducts  Amount_on_FishProducts  \\\n",
              "count             1568.000000             1568.000000   \n",
              "mean               168.376276               37.166454   \n",
              "std                233.419980               53.994951   \n",
              "min                  0.000000                0.000000   \n",
              "25%                 15.000000                3.000000   \n",
              "50%                 64.000000               12.000000   \n",
              "75%                232.000000               49.250000   \n",
              "max               1725.000000              259.000000   \n",
              "\n",
              "       Amount_on_SweetProducts  Amount_on_GoldProds  WebVisitsMonth  \\\n",
              "count              1568.000000          1568.000000     1568.000000   \n",
              "mean                 26.800383            43.739158        5.326531   \n",
              "std                  40.857657            51.591557        2.468023   \n",
              "min                   0.000000             0.000000        0.000000   \n",
              "25%                   1.000000             8.000000        3.000000   \n",
              "50%                   8.000000            25.000000        6.000000   \n",
              "75%                  33.000000            56.000000        7.000000   \n",
              "max                 263.000000           362.000000       20.000000   \n",
              "\n",
              "       Cmp3Accepted  Cmp4Accepted  Cmp5Accepted  Cmp1Accepted  Cmp2Accepted  \\\n",
              "count   1568.000000   1568.000000   1568.000000   1568.000000   1568.000000   \n",
              "mean       0.072704      0.072704      0.080357      0.064413      0.012755   \n",
              "std        0.259733      0.259733      0.271932      0.245566      0.112252   \n",
              "min        0.000000      0.000000      0.000000      0.000000      0.000000   \n",
              "25%        0.000000      0.000000      0.000000      0.000000      0.000000   \n",
              "50%        0.000000      0.000000      0.000000      0.000000      0.000000   \n",
              "75%        0.000000      0.000000      0.000000      0.000000      0.000000   \n",
              "max        1.000000      1.000000      1.000000      1.000000      1.000000   \n",
              "\n",
              "       Any_Complain     Response  \n",
              "count   1568.000000  1568.000000  \n",
              "mean       0.008291     0.152423  \n",
              "std        0.090705     0.359546  \n",
              "min        0.000000     0.000000  \n",
              "25%        0.000000     0.000000  \n",
              "50%        0.000000     0.000000  \n",
              "75%        0.000000     0.000000  \n",
              "max        1.000000     1.000000  "
            ]
          },
          "execution_count": 7,
          "metadata": {},
          "output_type": "execute_result"
        }
      ]
    },
    {
      "cell_type": "code",
      "metadata": {
        "id": "smooth-glucose",
        "outputId": "68f561bf-ee75-4c96-f95a-1138e6edc6d0"
      },
      "source": [
        "test.describe()"
      ],
      "id": "smooth-glucose",
      "execution_count": null,
      "outputs": [
        {
          "data": {
            "text/html": [
              "<div>\n",
              "<style scoped>\n",
              "    .dataframe tbody tr th:only-of-type {\n",
              "        vertical-align: middle;\n",
              "    }\n",
              "\n",
              "    .dataframe tbody tr th {\n",
              "        vertical-align: top;\n",
              "    }\n",
              "\n",
              "    .dataframe thead th {\n",
              "        text-align: right;\n",
              "    }\n",
              "</style>\n",
              "<table border=\"1\" class=\"dataframe\">\n",
              "  <thead>\n",
              "    <tr style=\"text-align: right;\">\n",
              "      <th></th>\n",
              "      <th>Year_of_Birth</th>\n",
              "      <th>Disposable_Income</th>\n",
              "      <th>No_of_Kids_in_home</th>\n",
              "      <th>No_of_Teen_in_home</th>\n",
              "      <th>Recency</th>\n",
              "      <th>Discounted_Purchases</th>\n",
              "      <th>WebPurchases</th>\n",
              "      <th>CatalogPurchases</th>\n",
              "      <th>StorePurchases</th>\n",
              "      <th>Amount_on_Wines</th>\n",
              "      <th>Amount_on_Fruits</th>\n",
              "      <th>Amount_on_MeatProducts</th>\n",
              "      <th>Amount_on_FishProducts</th>\n",
              "      <th>Amount_on_SweetProducts</th>\n",
              "      <th>Amount_on_GoldProds</th>\n",
              "      <th>WebVisitsMonth</th>\n",
              "      <th>Cmp3Accepted</th>\n",
              "      <th>Cmp4Accepted</th>\n",
              "      <th>Cmp5Accepted</th>\n",
              "      <th>Cmp1Accepted</th>\n",
              "      <th>Cmp2Accepted</th>\n",
              "      <th>Any_Complain</th>\n",
              "    </tr>\n",
              "  </thead>\n",
              "  <tbody>\n",
              "    <tr>\n",
              "      <th>count</th>\n",
              "      <td>672.000000</td>\n",
              "      <td>664.000000</td>\n",
              "      <td>672.000000</td>\n",
              "      <td>672.000000</td>\n",
              "      <td>672.000000</td>\n",
              "      <td>672.000000</td>\n",
              "      <td>672.000000</td>\n",
              "      <td>672.000000</td>\n",
              "      <td>672.000000</td>\n",
              "      <td>672.000000</td>\n",
              "      <td>672.000000</td>\n",
              "      <td>672.000000</td>\n",
              "      <td>672.000000</td>\n",
              "      <td>672.000000</td>\n",
              "      <td>672.000000</td>\n",
              "      <td>672.000000</td>\n",
              "      <td>672.000000</td>\n",
              "      <td>672.000000</td>\n",
              "      <td>672.000000</td>\n",
              "      <td>672.000000</td>\n",
              "      <td>672.000000</td>\n",
              "      <td>672.000000</td>\n",
              "    </tr>\n",
              "    <tr>\n",
              "      <th>mean</th>\n",
              "      <td>1969.181548</td>\n",
              "      <td>63434.170482</td>\n",
              "      <td>0.406250</td>\n",
              "      <td>0.526786</td>\n",
              "      <td>57.744048</td>\n",
              "      <td>2.400298</td>\n",
              "      <td>4.279762</td>\n",
              "      <td>2.653274</td>\n",
              "      <td>5.992560</td>\n",
              "      <td>322.342262</td>\n",
              "      <td>29.794643</td>\n",
              "      <td>163.622024</td>\n",
              "      <td>38.363095</td>\n",
              "      <td>27.675595</td>\n",
              "      <td>44.681548</td>\n",
              "      <td>5.293155</td>\n",
              "      <td>0.072917</td>\n",
              "      <td>0.078869</td>\n",
              "      <td>0.055060</td>\n",
              "      <td>0.063988</td>\n",
              "      <td>0.014881</td>\n",
              "      <td>0.011905</td>\n",
              "    </tr>\n",
              "    <tr>\n",
              "      <th>std</th>\n",
              "      <td>12.116416</td>\n",
              "      <td>25276.585476</td>\n",
              "      <td>0.532259</td>\n",
              "      <td>0.545293</td>\n",
              "      <td>29.321893</td>\n",
              "      <td>1.919125</td>\n",
              "      <td>2.782585</td>\n",
              "      <td>2.622899</td>\n",
              "      <td>3.221797</td>\n",
              "      <td>328.037431</td>\n",
              "      <td>40.279494</td>\n",
              "      <td>206.752060</td>\n",
              "      <td>56.112424</td>\n",
              "      <td>42.275184</td>\n",
              "      <td>53.520249</td>\n",
              "      <td>2.328867</td>\n",
              "      <td>0.260193</td>\n",
              "      <td>0.269735</td>\n",
              "      <td>0.228266</td>\n",
              "      <td>0.244914</td>\n",
              "      <td>0.121167</td>\n",
              "      <td>0.108538</td>\n",
              "    </tr>\n",
              "    <tr>\n",
              "      <th>min</th>\n",
              "      <td>1894.000000</td>\n",
              "      <td>5313.600000</td>\n",
              "      <td>0.000000</td>\n",
              "      <td>0.000000</td>\n",
              "      <td>7.000000</td>\n",
              "      <td>0.000000</td>\n",
              "      <td>0.000000</td>\n",
              "      <td>0.000000</td>\n",
              "      <td>0.000000</td>\n",
              "      <td>5.000000</td>\n",
              "      <td>3.000000</td>\n",
              "      <td>1.000000</td>\n",
              "      <td>0.000000</td>\n",
              "      <td>0.000000</td>\n",
              "      <td>0.000000</td>\n",
              "      <td>0.000000</td>\n",
              "      <td>0.000000</td>\n",
              "      <td>0.000000</td>\n",
              "      <td>0.000000</td>\n",
              "      <td>0.000000</td>\n",
              "      <td>0.000000</td>\n",
              "      <td>0.000000</td>\n",
              "    </tr>\n",
              "    <tr>\n",
              "      <th>25%</th>\n",
              "      <td>1960.000000</td>\n",
              "      <td>44219.700000</td>\n",
              "      <td>0.000000</td>\n",
              "      <td>0.000000</td>\n",
              "      <td>33.000000</td>\n",
              "      <td>1.000000</td>\n",
              "      <td>2.000000</td>\n",
              "      <td>1.000000</td>\n",
              "      <td>3.000000</td>\n",
              "      <td>35.750000</td>\n",
              "      <td>5.000000</td>\n",
              "      <td>17.000000</td>\n",
              "      <td>2.750000</td>\n",
              "      <td>2.000000</td>\n",
              "      <td>10.000000</td>\n",
              "      <td>4.000000</td>\n",
              "      <td>0.000000</td>\n",
              "      <td>0.000000</td>\n",
              "      <td>0.000000</td>\n",
              "      <td>0.000000</td>\n",
              "      <td>0.000000</td>\n",
              "      <td>0.000000</td>\n",
              "    </tr>\n",
              "    <tr>\n",
              "      <th>50%</th>\n",
              "      <td>1970.000000</td>\n",
              "      <td>64007.400000</td>\n",
              "      <td>0.000000</td>\n",
              "      <td>1.000000</td>\n",
              "      <td>58.000000</td>\n",
              "      <td>2.000000</td>\n",
              "      <td>4.000000</td>\n",
              "      <td>2.000000</td>\n",
              "      <td>5.000000</td>\n",
              "      <td>209.500000</td>\n",
              "      <td>11.000000</td>\n",
              "      <td>73.000000</td>\n",
              "      <td>11.000000</td>\n",
              "      <td>9.000000</td>\n",
              "      <td>24.000000</td>\n",
              "      <td>6.000000</td>\n",
              "      <td>0.000000</td>\n",
              "      <td>0.000000</td>\n",
              "      <td>0.000000</td>\n",
              "      <td>0.000000</td>\n",
              "      <td>0.000000</td>\n",
              "      <td>0.000000</td>\n",
              "    </tr>\n",
              "    <tr>\n",
              "      <th>75%</th>\n",
              "      <td>1978.000000</td>\n",
              "      <td>83466.300000</td>\n",
              "      <td>1.000000</td>\n",
              "      <td>1.000000</td>\n",
              "      <td>84.000000</td>\n",
              "      <td>3.000000</td>\n",
              "      <td>6.000000</td>\n",
              "      <td>4.000000</td>\n",
              "      <td>8.000000</td>\n",
              "      <td>514.750000</td>\n",
              "      <td>36.000000</td>\n",
              "      <td>230.500000</td>\n",
              "      <td>50.000000</td>\n",
              "      <td>33.250000</td>\n",
              "      <td>56.000000</td>\n",
              "      <td>7.000000</td>\n",
              "      <td>0.000000</td>\n",
              "      <td>0.000000</td>\n",
              "      <td>0.000000</td>\n",
              "      <td>0.000000</td>\n",
              "      <td>0.000000</td>\n",
              "      <td>0.000000</td>\n",
              "    </tr>\n",
              "    <tr>\n",
              "      <th>max</th>\n",
              "      <td>1997.000000</td>\n",
              "      <td>194876.400000</td>\n",
              "      <td>2.000000</td>\n",
              "      <td>2.000000</td>\n",
              "      <td>106.000000</td>\n",
              "      <td>15.000000</td>\n",
              "      <td>25.000000</td>\n",
              "      <td>11.000000</td>\n",
              "      <td>13.000000</td>\n",
              "      <td>1483.000000</td>\n",
              "      <td>202.000000</td>\n",
              "      <td>981.000000</td>\n",
              "      <td>250.000000</td>\n",
              "      <td>198.000000</td>\n",
              "      <td>321.000000</td>\n",
              "      <td>14.000000</td>\n",
              "      <td>1.000000</td>\n",
              "      <td>1.000000</td>\n",
              "      <td>1.000000</td>\n",
              "      <td>1.000000</td>\n",
              "      <td>1.000000</td>\n",
              "      <td>1.000000</td>\n",
              "    </tr>\n",
              "  </tbody>\n",
              "</table>\n",
              "</div>"
            ],
            "text/plain": [
              "       Year_of_Birth  Disposable_Income  No_of_Kids_in_home  \\\n",
              "count     672.000000         664.000000          672.000000   \n",
              "mean     1969.181548       63434.170482            0.406250   \n",
              "std        12.116416       25276.585476            0.532259   \n",
              "min      1894.000000        5313.600000            0.000000   \n",
              "25%      1960.000000       44219.700000            0.000000   \n",
              "50%      1970.000000       64007.400000            0.000000   \n",
              "75%      1978.000000       83466.300000            1.000000   \n",
              "max      1997.000000      194876.400000            2.000000   \n",
              "\n",
              "       No_of_Teen_in_home     Recency  Discounted_Purchases  WebPurchases  \\\n",
              "count          672.000000  672.000000            672.000000    672.000000   \n",
              "mean             0.526786   57.744048              2.400298      4.279762   \n",
              "std              0.545293   29.321893              1.919125      2.782585   \n",
              "min              0.000000    7.000000              0.000000      0.000000   \n",
              "25%              0.000000   33.000000              1.000000      2.000000   \n",
              "50%              1.000000   58.000000              2.000000      4.000000   \n",
              "75%              1.000000   84.000000              3.000000      6.000000   \n",
              "max              2.000000  106.000000             15.000000     25.000000   \n",
              "\n",
              "       CatalogPurchases  StorePurchases  Amount_on_Wines  Amount_on_Fruits  \\\n",
              "count        672.000000      672.000000       672.000000        672.000000   \n",
              "mean           2.653274        5.992560       322.342262         29.794643   \n",
              "std            2.622899        3.221797       328.037431         40.279494   \n",
              "min            0.000000        0.000000         5.000000          3.000000   \n",
              "25%            1.000000        3.000000        35.750000          5.000000   \n",
              "50%            2.000000        5.000000       209.500000         11.000000   \n",
              "75%            4.000000        8.000000       514.750000         36.000000   \n",
              "max           11.000000       13.000000      1483.000000        202.000000   \n",
              "\n",
              "       Amount_on_MeatProducts  Amount_on_FishProducts  \\\n",
              "count              672.000000              672.000000   \n",
              "mean               163.622024               38.363095   \n",
              "std                206.752060               56.112424   \n",
              "min                  1.000000                0.000000   \n",
              "25%                 17.000000                2.750000   \n",
              "50%                 73.000000               11.000000   \n",
              "75%                230.500000               50.000000   \n",
              "max                981.000000              250.000000   \n",
              "\n",
              "       Amount_on_SweetProducts  Amount_on_GoldProds  WebVisitsMonth  \\\n",
              "count               672.000000           672.000000      672.000000   \n",
              "mean                 27.675595            44.681548        5.293155   \n",
              "std                  42.275184            53.520249        2.328867   \n",
              "min                   0.000000             0.000000        0.000000   \n",
              "25%                   2.000000            10.000000        4.000000   \n",
              "50%                   9.000000            24.000000        6.000000   \n",
              "75%                  33.250000            56.000000        7.000000   \n",
              "max                 198.000000           321.000000       14.000000   \n",
              "\n",
              "       Cmp3Accepted  Cmp4Accepted  Cmp5Accepted  Cmp1Accepted  Cmp2Accepted  \\\n",
              "count    672.000000    672.000000    672.000000    672.000000    672.000000   \n",
              "mean       0.072917      0.078869      0.055060      0.063988      0.014881   \n",
              "std        0.260193      0.269735      0.228266      0.244914      0.121167   \n",
              "min        0.000000      0.000000      0.000000      0.000000      0.000000   \n",
              "25%        0.000000      0.000000      0.000000      0.000000      0.000000   \n",
              "50%        0.000000      0.000000      0.000000      0.000000      0.000000   \n",
              "75%        0.000000      0.000000      0.000000      0.000000      0.000000   \n",
              "max        1.000000      1.000000      1.000000      1.000000      1.000000   \n",
              "\n",
              "       Any_Complain  \n",
              "count    672.000000  \n",
              "mean       0.011905  \n",
              "std        0.108538  \n",
              "min        0.000000  \n",
              "25%        0.000000  \n",
              "50%        0.000000  \n",
              "75%        0.000000  \n",
              "max        1.000000  "
            ]
          },
          "execution_count": 8,
          "metadata": {},
          "output_type": "execute_result"
        }
      ]
    },
    {
      "cell_type": "code",
      "metadata": {
        "id": "behavioral-imperial",
        "outputId": "4ce079bd-6280-4022-c54e-4c889c77dc55"
      },
      "source": [
        "sns.boxplot(train['Disposable_Income'])"
      ],
      "id": "behavioral-imperial",
      "execution_count": null,
      "outputs": [
        {
          "data": {
            "text/plain": [
              "<AxesSubplot:xlabel='Disposable_Income'>"
            ]
          },
          "execution_count": 9,
          "metadata": {},
          "output_type": "execute_result"
        },
        {
          "data": {
            "image/png": "[encoded data removed]",
            "text/plain": [
              "<Figure size 432x288 with 1 Axes>"
            ]
          },
          "metadata": {
            "needs_background": "light"
          },
          "output_type": "display_data"
        }
      ]
    },
    {
      "cell_type": "code",
      "metadata": {
        "id": "fifty-princeton",
        "outputId": "c35e8fd7-6968-4986-8f75-632d332f439e"
      },
      "source": [
        "train.loc[train['Disposable_Income'] > 200000]"
      ],
      "id": "fifty-princeton",
      "execution_count": null,
      "outputs": [
        {
          "data": {
            "text/html": [
              "<div>\n",
              "<style scoped>\n",
              "    .dataframe tbody tr th:only-of-type {\n",
              "        vertical-align: middle;\n",
              "    }\n",
              "\n",
              "    .dataframe tbody tr th {\n",
              "        vertical-align: top;\n",
              "    }\n",
              "\n",
              "    .dataframe thead th {\n",
              "        text-align: right;\n",
              "    }\n",
              "</style>\n",
              "<table border=\"1\" class=\"dataframe\">\n",
              "  <thead>\n",
              "    <tr style=\"text-align: right;\">\n",
              "      <th></th>\n",
              "      <th>ID</th>\n",
              "      <th>Year_of_Birth</th>\n",
              "      <th>Education_Level</th>\n",
              "      <th>Marital_Status</th>\n",
              "      <th>Disposable_Income</th>\n",
              "      <th>No_of_Kids_in_home</th>\n",
              "      <th>No_of_Teen_in_home</th>\n",
              "      <th>Date_Customer</th>\n",
              "      <th>Recency</th>\n",
              "      <th>Discounted_Purchases</th>\n",
              "      <th>WebPurchases</th>\n",
              "      <th>CatalogPurchases</th>\n",
              "      <th>StorePurchases</th>\n",
              "      <th>Amount_on_Wines</th>\n",
              "      <th>Amount_on_Fruits</th>\n",
              "      <th>Amount_on_MeatProducts</th>\n",
              "      <th>Amount_on_FishProducts</th>\n",
              "      <th>Amount_on_SweetProducts</th>\n",
              "      <th>Amount_on_GoldProds</th>\n",
              "      <th>WebVisitsMonth</th>\n",
              "      <th>Cmp3Accepted</th>\n",
              "      <th>Cmp4Accepted</th>\n",
              "      <th>Cmp5Accepted</th>\n",
              "      <th>Cmp1Accepted</th>\n",
              "      <th>Cmp2Accepted</th>\n",
              "      <th>Any_Complain</th>\n",
              "      <th>Response</th>\n",
              "    </tr>\n",
              "  </thead>\n",
              "  <tbody>\n",
              "    <tr>\n",
              "      <th>190</th>\n",
              "      <td>ID_VIUX07W2</td>\n",
              "      <td>1978</td>\n",
              "      <td>Graduation</td>\n",
              "      <td>Together</td>\n",
              "      <td>799999.2</td>\n",
              "      <td>1</td>\n",
              "      <td>0</td>\n",
              "      <td>2013-02-06</td>\n",
              "      <td>30</td>\n",
              "      <td>4</td>\n",
              "      <td>3</td>\n",
              "      <td>1</td>\n",
              "      <td>3</td>\n",
              "      <td>14</td>\n",
              "      <td>17</td>\n",
              "      <td>18</td>\n",
              "      <td>8</td>\n",
              "      <td>1</td>\n",
              "      <td>12</td>\n",
              "      <td>6</td>\n",
              "      <td>0</td>\n",
              "      <td>0</td>\n",
              "      <td>0</td>\n",
              "      <td>0</td>\n",
              "      <td>0</td>\n",
              "      <td>0</td>\n",
              "      <td>0</td>\n",
              "    </tr>\n",
              "  </tbody>\n",
              "</table>\n",
              "</div>"
            ],
            "text/plain": [
              "              ID  Year_of_Birth Education_Level Marital_Status  \\\n",
              "190  ID_VIUX07W2           1978      Graduation       Together   \n",
              "\n",
              "     Disposable_Income  No_of_Kids_in_home  No_of_Teen_in_home Date_Customer  \\\n",
              "190           799999.2                   1                   0    2013-02-06   \n",
              "\n",
              "     Recency  Discounted_Purchases  WebPurchases  CatalogPurchases  \\\n",
              "190       30                     4             3                 1   \n",
              "\n",
              "     StorePurchases  Amount_on_Wines  Amount_on_Fruits  \\\n",
              "190               3               14                17   \n",
              "\n",
              "     Amount_on_MeatProducts  Amount_on_FishProducts  Amount_on_SweetProducts  \\\n",
              "190                      18                       8                        1   \n",
              "\n",
              "     Amount_on_GoldProds  WebVisitsMonth  Cmp3Accepted  Cmp4Accepted  \\\n",
              "190                   12               6             0             0   \n",
              "\n",
              "     Cmp5Accepted  Cmp1Accepted  Cmp2Accepted  Any_Complain  Response  \n",
              "190             0             0             0             0         0  "
            ]
          },
          "execution_count": 10,
          "metadata": {},
          "output_type": "execute_result"
        }
      ]
    },
    {
      "cell_type": "code",
      "metadata": {
        "id": "bronze-helena"
      },
      "source": [
        "train = train.drop(190)"
      ],
      "id": "bronze-helena",
      "execution_count": null,
      "outputs": []
    },
    {
      "cell_type": "markdown",
      "metadata": {
        "id": "hidden-funds"
      },
      "source": [
        "## Missing Value Treatment"
      ],
      "id": "hidden-funds"
    },
    {
      "cell_type": "code",
      "metadata": {
        "id": "graphic-catalyst"
      },
      "source": [
        "train.Disposable_Income.fillna(train.Disposable_Income.median(), inplace=True)\n",
        "test.Disposable_Income.fillna(test.Disposable_Income.median(), inplace= True)"
      ],
      "id": "graphic-catalyst",
      "execution_count": null,
      "outputs": []
    },
    {
      "cell_type": "markdown",
      "metadata": {
        "id": "prescribed-fisher"
      },
      "source": [
        "## Data Preprocessing"
      ],
      "id": "prescribed-fisher"
    },
    {
      "cell_type": "code",
      "metadata": {
        "id": "imported-victory"
      },
      "source": [
        "education = {\n",
        "    \"Graduation\": 1,\n",
        "    \"PhD\": 2,\n",
        "    \"Master\": 3,\n",
        "    \"2n Cycle\": 4,\n",
        "    \"Basic\": 5\n",
        "}\n",
        "\n",
        "train.Education_Level = train.Education_Level.map(education)\n",
        "test.Education_Level = test.Education_Level.map(education)\n",
        "\n",
        "feature = train.columns.drop(['Response', 'ID', 'Date_Customer'])\n",
        "\n",
        "\n",
        "mar = {\n",
        "    \"Married\"  :   1,\n",
        "\"Together\":    2,\n",
        "\"Single\":      3,\n",
        "\"Divorced\":    4,\n",
        "\"Widow\":        5,\n",
        "\"Alone\":         6,\n",
        "\"YOLO\":          7,\n",
        "\"Absurd\":        8\n",
        "\n",
        "}\n",
        "\n",
        "train.Marital_Status = train.Marital_Status.map(mar)\n",
        "test.Marital_Status = test.Marital_Status.map(mar)"
      ],
      "id": "imported-victory",
      "execution_count": null,
      "outputs": []
    },
    {
      "cell_type": "code",
      "metadata": {
        "id": "computational-cornwall",
        "outputId": "dd22728c-efd2-4f60-cbc6-13ffc828573f"
      },
      "source": [
        "test.columns"
      ],
      "id": "computational-cornwall",
      "execution_count": null,
      "outputs": [
        {
          "data": {
            "text/plain": [
              "Index(['ID', 'Year_of_Birth', 'Education_Level', 'Marital_Status',\n",
              "       'Disposable_Income', 'No_of_Kids_in_home', 'No_of_Teen_in_home',\n",
              "       'Date_Customer', 'Recency', 'Discounted_Purchases', 'WebPurchases',\n",
              "       'CatalogPurchases', 'StorePurchases', 'Amount_on_Wines',\n",
              "       'Amount_on_Fruits', 'Amount_on_MeatProducts', 'Amount_on_FishProducts',\n",
              "       'Amount_on_SweetProducts', 'Amount_on_GoldProds', 'WebVisitsMonth',\n",
              "       'Cmp3Accepted', 'Cmp4Accepted', 'Cmp5Accepted', 'Cmp1Accepted',\n",
              "       'Cmp2Accepted', 'Any_Complain'],\n",
              "      dtype='object')"
            ]
          },
          "execution_count": 14,
          "metadata": {},
          "output_type": "execute_result"
        }
      ]
    },
    {
      "cell_type": "code",
      "metadata": {
        "id": "corporate-excerpt",
        "outputId": "d9766b12-76cc-481a-9e00-a2c80002c760"
      },
      "source": [
        "train.columns"
      ],
      "id": "corporate-excerpt",
      "execution_count": null,
      "outputs": [
        {
          "data": {
            "text/plain": [
              "Index(['ID', 'Year_of_Birth', 'Education_Level', 'Marital_Status',\n",
              "       'Disposable_Income', 'No_of_Kids_in_home', 'No_of_Teen_in_home',\n",
              "       'Date_Customer', 'Recency', 'Discounted_Purchases', 'WebPurchases',\n",
              "       'CatalogPurchases', 'StorePurchases', 'Amount_on_Wines',\n",
              "       'Amount_on_Fruits', 'Amount_on_MeatProducts', 'Amount_on_FishProducts',\n",
              "       'Amount_on_SweetProducts', 'Amount_on_GoldProds', 'WebVisitsMonth',\n",
              "       'Cmp3Accepted', 'Cmp4Accepted', 'Cmp5Accepted', 'Cmp1Accepted',\n",
              "       'Cmp2Accepted', 'Any_Complain', 'Response'],\n",
              "      dtype='object')"
            ]
          },
          "execution_count": 15,
          "metadata": {},
          "output_type": "execute_result"
        }
      ]
    },
    {
      "cell_type": "code",
      "metadata": {
        "id": "technological-portfolio"
      },
      "source": [
        "test['Response'] = 'test'\n",
        "data = pd.concat([train, test]).reset_index(drop = True)"
      ],
      "id": "technological-portfolio",
      "execution_count": null,
      "outputs": []
    },
    {
      "cell_type": "markdown",
      "metadata": {
        "id": "toxic-insight"
      },
      "source": [
        "## Feature Engineering"
      ],
      "id": "toxic-insight"
    },
    {
      "cell_type": "code",
      "metadata": {
        "id": "classical-amino",
        "outputId": "52a244b8-1af1-4cc3-fcff-0908a04421ac"
      },
      "source": [
        "max(data.Date_Customer)"
      ],
      "id": "classical-amino",
      "execution_count": null,
      "outputs": [
        {
          "data": {
            "text/plain": [
              "Timestamp('2014-12-06 00:00:00')"
            ]
          },
          "execution_count": 17,
          "metadata": {},
          "output_type": "execute_result"
        }
      ]
    },
    {
      "cell_type": "code",
      "metadata": {
        "id": "modular-language"
      },
      "source": [
        "data['year'] = data.Date_Customer.dt.year\n",
        "data['month'] = data.Date_Customer.dt.month\n",
        "data['quater'] = data.Date_Customer.dt.quarter \n",
        "\n",
        "\n",
        "today = pd.to_datetime('2015-1-1')\n",
        "\n",
        "data['duration_days'] = (today - data['Date_Customer']).dt.days\n",
        "data['duration_months'] = ((today- data.Date_Customer)/np.timedelta64(1, 'M'))\n",
        "data['duration_months'] = data['duration_months'].astype(int)\n",
        "\n",
        "data['is_month_end'] = data.Date_Customer.dt.is_month_end.astype(int)\n",
        "data['is_month_start'] = data.Date_Customer.dt.is_month_start.astype(int)"
      ],
      "id": "modular-language",
      "execution_count": null,
      "outputs": []
    },
    {
      "cell_type": "code",
      "metadata": {
        "id": "referenced-hawaii"
      },
      "source": [
        "data['total_children'] = data['No_of_Kids_in_home'] + data['No_of_Teen_in_home']"
      ],
      "id": "referenced-hawaii",
      "execution_count": null,
      "outputs": []
    },
    {
      "cell_type": "code",
      "metadata": {
        "id": "complex-chaos"
      },
      "source": [
        "poly_feature_1 = ['Discounted_Purchases', 'WebPurchases', 'CatalogPurchases',\n",
        "       'StorePurchases']\n",
        "poly_feature_2 = ['Amount_on_Wines', 'Amount_on_Fruits',\n",
        "       'Amount_on_MeatProducts', 'Amount_on_FishProducts',\n",
        "       'Amount_on_SweetProducts', 'Amount_on_GoldProds']"
      ],
      "id": "complex-chaos",
      "execution_count": null,
      "outputs": []
    },
    {
      "cell_type": "code",
      "metadata": {
        "id": "engaged-malaysia"
      },
      "source": [
        "from sklearn.preprocessing import PolynomialFeatures"
      ],
      "id": "engaged-malaysia",
      "execution_count": null,
      "outputs": []
    },
    {
      "cell_type": "code",
      "metadata": {
        "id": "welsh-tuition"
      },
      "source": [
        "poly = PolynomialFeatures(degree=2, interaction_only=True, include_bias=False)\n",
        "\n",
        "poly1 = poly.fit_transform(data[poly_feature_1])\n",
        "poly2 = poly.fit_transform(data[poly_feature_2])"
      ],
      "id": "welsh-tuition",
      "execution_count": null,
      "outputs": []
    },
    {
      "cell_type": "code",
      "metadata": {
        "id": "continued-rings"
      },
      "source": [
        "df_poly1 = pd.DataFrame(poly1, columns=[f\"poly1_{i}\" for i in range(poly1.shape[1])])\n",
        "df_poly2 = pd.DataFrame(poly2, columns=[f\"poly2_{i}\" for i in range(poly2.shape[1])])"
      ],
      "id": "continued-rings",
      "execution_count": null,
      "outputs": []
    },
    {
      "cell_type": "code",
      "metadata": {
        "id": "united-kidney",
        "outputId": "4ab092a4-cca8-4cc8-f45d-22062124864e"
      },
      "source": [
        "data.columns"
      ],
      "id": "united-kidney",
      "execution_count": null,
      "outputs": [
        {
          "data": {
            "text/plain": [
              "Index(['ID', 'Year_of_Birth', 'Education_Level', 'Marital_Status',\n",
              "       'Disposable_Income', 'No_of_Kids_in_home', 'No_of_Teen_in_home',\n",
              "       'Date_Customer', 'Recency', 'Discounted_Purchases', 'WebPurchases',\n",
              "       'CatalogPurchases', 'StorePurchases', 'Amount_on_Wines',\n",
              "       'Amount_on_Fruits', 'Amount_on_MeatProducts', 'Amount_on_FishProducts',\n",
              "       'Amount_on_SweetProducts', 'Amount_on_GoldProds', 'WebVisitsMonth',\n",
              "       'Cmp3Accepted', 'Cmp4Accepted', 'Cmp5Accepted', 'Cmp1Accepted',\n",
              "       'Cmp2Accepted', 'Any_Complain', 'Response', 'year', 'month', 'quater',\n",
              "       'duration_days', 'duration_months', 'is_month_end', 'is_month_start',\n",
              "       'total_children'],\n",
              "      dtype='object')"
            ]
          },
          "execution_count": 24,
          "metadata": {},
          "output_type": "execute_result"
        }
      ]
    },
    {
      "cell_type": "code",
      "metadata": {
        "id": "environmental-rwanda"
      },
      "source": [
        "new_data = pd.concat([data.drop('Date_Customer', axis = 1), df_poly1], axis = 1)\n",
        "new_data = pd.concat([new_data, df_poly2], axis = 1)"
      ],
      "id": "environmental-rwanda",
      "execution_count": null,
      "outputs": []
    },
    {
      "cell_type": "code",
      "metadata": {
        "id": "wound-spectacular"
      },
      "source": [
        "new_data['total_purchase'] = new_data[poly_feature_1].sum(axis = 1)\n",
        "new_data['total_amount_on'] = new_data[poly_feature_2].sum(axis = 1)"
      ],
      "id": "wound-spectacular",
      "execution_count": null,
      "outputs": []
    },
    {
      "cell_type": "code",
      "metadata": {
        "id": "norman-textbook"
      },
      "source": [
        "# new_data['year_month'] = \n",
        "new_data['year_month'] = new_data['year'].apply(str) + \"_\"  + new_data['month'].apply(str)"
      ],
      "id": "norman-textbook",
      "execution_count": null,
      "outputs": []
    },
    {
      "cell_type": "code",
      "metadata": {
        "id": "facial-desert"
      },
      "source": [
        "# bin_label = [1,2,3,4,5]\n",
        "new_data['Recency_bin'] = pd.qcut(new_data.Recency, q = [0, .2, .4, .6, .8, 1], labels=False)"
      ],
      "id": "facial-desert",
      "execution_count": null,
      "outputs": []
    },
    {
      "cell_type": "code",
      "metadata": {
        "id": "undefined-sierra"
      },
      "source": [
        "new_data['Recency' + '_mean_on_yr_mth'] = new_data['Recency'].groupby(new_data['year_month']).transform('mean')\n",
        "new_data['Recency' + '_std_on_yr_mth'] = new_data['Recency'].groupby(new_data['year_month']).transform('std')\n",
        "new_data['Recency' + '_max_on_yr_mth'] = new_data['Recency'].groupby(new_data['year_month']).transform('max')\n",
        "new_data['Recency' + '_min_on_yr_mth'] = new_data['Recency'].groupby(new_data['year_month']).transform('min')"
      ],
      "id": "undefined-sierra",
      "execution_count": null,
      "outputs": []
    },
    {
      "cell_type": "code",
      "metadata": {
        "id": "strong-speaking"
      },
      "source": [
        "new_data['year_month_int'], _ = pd.factorize(new_data['year_month'])"
      ],
      "id": "strong-speaking",
      "execution_count": null,
      "outputs": []
    },
    {
      "cell_type": "code",
      "metadata": {
        "id": "indonesian-moses",
        "outputId": "0e10ddee-952e-4a97-c97f-f413f0ad26e7"
      },
      "source": [
        "new_data.columns"
      ],
      "id": "indonesian-moses",
      "execution_count": null,
      "outputs": [
        {
          "data": {
            "text/plain": [
              "Index(['ID', 'Year_of_Birth', 'Education_Level', 'Marital_Status',\n",
              "       'Disposable_Income', 'No_of_Kids_in_home', 'No_of_Teen_in_home',\n",
              "       'Recency', 'Discounted_Purchases', 'WebPurchases', 'CatalogPurchases',\n",
              "       'StorePurchases', 'Amount_on_Wines', 'Amount_on_Fruits',\n",
              "       'Amount_on_MeatProducts', 'Amount_on_FishProducts',\n",
              "       'Amount_on_SweetProducts', 'Amount_on_GoldProds', 'WebVisitsMonth',\n",
              "       'Cmp3Accepted', 'Cmp4Accepted', 'Cmp5Accepted', 'Cmp1Accepted',\n",
              "       'Cmp2Accepted', 'Any_Complain', 'Response', 'year', 'month', 'quater',\n",
              "       'duration_days', 'duration_months', 'is_month_end', 'is_month_start',\n",
              "       'total_children', 'poly1_0', 'poly1_1', 'poly1_2', 'poly1_3', 'poly1_4',\n",
              "       'poly1_5', 'poly1_6', 'poly1_7', 'poly1_8', 'poly1_9', 'poly2_0',\n",
              "       'poly2_1', 'poly2_2', 'poly2_3', 'poly2_4', 'poly2_5', 'poly2_6',\n",
              "       'poly2_7', 'poly2_8', 'poly2_9', 'poly2_10', 'poly2_11', 'poly2_12',\n",
              "       'poly2_13', 'poly2_14', 'poly2_15', 'poly2_16', 'poly2_17', 'poly2_18',\n",
              "       'poly2_19', 'poly2_20', 'total_purchase', 'total_amount_on',\n",
              "       'year_month', 'Recency_bin', 'Recency_mean_on_yr_mth',\n",
              "       'Recency_std_on_yr_mth', 'Recency_max_on_yr_mth',\n",
              "       'Recency_min_on_yr_mth', 'year_month_int'],\n",
              "      dtype='object')"
            ]
          },
          "execution_count": 31,
          "metadata": {},
          "output_type": "execute_result"
        }
      ]
    },
    {
      "cell_type": "code",
      "metadata": {
        "id": "running-purple"
      },
      "source": [
        "features = new_data.select_dtypes(include = 'number').columns"
      ],
      "id": "running-purple",
      "execution_count": null,
      "outputs": []
    },
    {
      "cell_type": "code",
      "metadata": {
        "id": "valued-feature",
        "outputId": "420c305c-4821-4c96-a767-782bd21ad2f3"
      },
      "source": [
        "features"
      ],
      "id": "valued-feature",
      "execution_count": null,
      "outputs": [
        {
          "data": {
            "text/plain": [
              "Index(['Year_of_Birth', 'Education_Level', 'Marital_Status',\n",
              "       'Disposable_Income', 'No_of_Kids_in_home', 'No_of_Teen_in_home',\n",
              "       'Recency', 'Discounted_Purchases', 'WebPurchases', 'CatalogPurchases',\n",
              "       'StorePurchases', 'Amount_on_Wines', 'Amount_on_Fruits',\n",
              "       'Amount_on_MeatProducts', 'Amount_on_FishProducts',\n",
              "       'Amount_on_SweetProducts', 'Amount_on_GoldProds', 'WebVisitsMonth',\n",
              "       'Cmp3Accepted', 'Cmp4Accepted', 'Cmp5Accepted', 'Cmp1Accepted',\n",
              "       'Cmp2Accepted', 'Any_Complain', 'year', 'month', 'quater',\n",
              "       'duration_days', 'duration_months', 'is_month_end', 'is_month_start',\n",
              "       'total_children', 'poly1_0', 'poly1_1', 'poly1_2', 'poly1_3', 'poly1_4',\n",
              "       'poly1_5', 'poly1_6', 'poly1_7', 'poly1_8', 'poly1_9', 'poly2_0',\n",
              "       'poly2_1', 'poly2_2', 'poly2_3', 'poly2_4', 'poly2_5', 'poly2_6',\n",
              "       'poly2_7', 'poly2_8', 'poly2_9', 'poly2_10', 'poly2_11', 'poly2_12',\n",
              "       'poly2_13', 'poly2_14', 'poly2_15', 'poly2_16', 'poly2_17', 'poly2_18',\n",
              "       'poly2_19', 'poly2_20', 'total_purchase', 'total_amount_on',\n",
              "       'Recency_bin', 'Recency_mean_on_yr_mth', 'Recency_std_on_yr_mth',\n",
              "       'Recency_max_on_yr_mth', 'Recency_min_on_yr_mth', 'year_month_int'],\n",
              "      dtype='object')"
            ]
          },
          "execution_count": 33,
          "metadata": {},
          "output_type": "execute_result"
        }
      ]
    },
    {
      "cell_type": "code",
      "metadata": {
        "id": "documentary-sleeping"
      },
      "source": [
        "train_df = new_data.loc[(new_data['Response'] != 'test')].reset_index(drop = True)\n",
        "test_df = new_data.loc[(new_data['Response'] == 'test')].reset_index(drop = True)"
      ],
      "id": "documentary-sleeping",
      "execution_count": null,
      "outputs": []
    },
    {
      "cell_type": "code",
      "metadata": {
        "id": "different-worth"
      },
      "source": [
        "train_df['Response'] = train_df['Response'].apply(int)"
      ],
      "id": "different-worth",
      "execution_count": null,
      "outputs": []
    },
    {
      "cell_type": "code",
      "metadata": {
        "id": "known-sleeve"
      },
      "source": [
        "target = 'Response'"
      ],
      "id": "known-sleeve",
      "execution_count": null,
      "outputs": []
    },
    {
      "cell_type": "markdown",
      "metadata": {
        "id": "female-crystal"
      },
      "source": [
        "## Modelling"
      ],
      "id": "female-crystal"
    },
    {
      "cell_type": "code",
      "metadata": {
        "id": "elementary-correction"
      },
      "source": [
        "from catboost import CatBoostClassifier\n",
        "from sklearn.model_selection import StratifiedKFold\n",
        "from sklearn.metrics import log_loss, f1_score\n",
        "from xgboost import XGBClassifier\n",
        "from lightgbm import LGBMClassifier\n",
        "from sklearn.model_selection import train_test_split, cross_val_score"
      ],
      "id": "elementary-correction",
      "execution_count": null,
      "outputs": []
    },
    {
      "cell_type": "code",
      "metadata": {
        "id": "divided-translator"
      },
      "source": [
        "X = train_df[features]\n",
        "y = train_df[target]"
      ],
      "id": "divided-translator",
      "execution_count": null,
      "outputs": []
    },
    {
      "cell_type": "code",
      "metadata": {
        "id": "demonstrated-volunteer"
      },
      "source": [
        "X_train, X_test, y_train, y_test = train_test_split(X, y, test_size=0.2, random_state=42)"
      ],
      "id": "demonstrated-volunteer",
      "execution_count": null,
      "outputs": []
    },
    {
      "cell_type": "markdown",
      "metadata": {
        "id": "parental-future"
      },
      "source": [
        "## Baseline Models"
      ],
      "id": "parental-future"
    },
    {
      "cell_type": "code",
      "metadata": {
        "id": "compact-gothic",
        "outputId": "aec0f9e7-5d04-4650-909c-ac65ba6692ff"
      },
      "source": [
        "model = XGBClassifier(scale_pos_weight = 8,max_depth = 8, n_estimators = 500)\n",
        "model.fit(X_train, y_train)\n",
        "prediction = model.predict(X_test)\n",
        "\n",
        "print(f1_score(prediction, y_test))"
      ],
      "id": "compact-gothic",
      "execution_count": null,
      "outputs": [
        {
          "name": "stdout",
          "output_type": "stream",
          "text": [
            "0.5617977528089888\n"
          ]
        }
      ]
    },
    {
      "cell_type": "code",
      "metadata": {
        "id": "optional-trigger"
      },
      "source": [
        "from imblearn.over_sampling import SMOTE\n",
        "\n",
        "sm = SMOTE(random_state=42)\n",
        "X_train_res, y_train_res = sm.fit_resample(X_train, y_train)"
      ],
      "id": "optional-trigger",
      "execution_count": null,
      "outputs": []
    },
    {
      "cell_type": "code",
      "metadata": {
        "id": "crazy-female",
        "outputId": "1e8452b4-c3c5-41c4-8e8b-3465be816337"
      },
      "source": [
        "model = LGBMClassifier(scale_pos_weight = 1,max_depth=6, n_estimators = 1000, learning_rate=0.01)\n",
        "model.fit(X_train_res, y_train_res)\n",
        "prediction = model.predict(X_test)\n",
        "\n",
        "print(f1_score(prediction, y_test))"
      ],
      "id": "crazy-female",
      "execution_count": null,
      "outputs": [
        {
          "name": "stdout",
          "output_type": "stream",
          "text": [
            "0.5360824742268041\n"
          ]
        }
      ]
    },
    {
      "cell_type": "markdown",
      "metadata": {
        "id": "electronic-soldier"
      },
      "source": [
        "## Modelling with SMOTE"
      ],
      "id": "electronic-soldier"
    },
    {
      "cell_type": "code",
      "metadata": {
        "id": "north-profile"
      },
      "source": [
        "from imblearn.over_sampling import SMOTE\n",
        "sm =SMOTE(sampling_strategy={1:1000, 0:1400},random_state=2021)\n",
        "X_, y_ = sm.fit_resample(train_df[features], train_df[target])"
      ],
      "id": "north-profile",
      "execution_count": null,
      "outputs": []
    },
    {
      "cell_type": "code",
      "metadata": {
        "id": "pressing-psychiatry",
        "outputId": "f4770d92-07fd-4490-e70d-fe50f92c896c"
      },
      "source": [
        "oof_f1=[]\n",
        "oof_predictions=[]\n",
        "\n",
        "params = {'learning_rate': 0.3,\n",
        "         'subsample': 0.7845527188607021,\n",
        "         'colsample_bytree': 0.6474680443294045,\n",
        "         'max_depth': 8,\n",
        "         'scale_pos_weight': 1}\n",
        "\n",
        "fold=StratifiedKFold(n_splits=5)#15#5#10\n",
        "\n",
        "i=1\n",
        "for train_index, test_index in fold.split(X_,y_):\n",
        "        \n",
        "    X_train, X_test = X_.iloc[train_index], X_.iloc[test_index]\n",
        "    y_train, y_test = y_.iloc[train_index], y_.iloc[test_index]\n",
        "\n",
        "    model = LGBMClassifier(**params, n_estimators=1000)\n",
        "\n",
        "    model.fit(X_train,y_train,eval_set=[(X_train,y_train),(X_test, y_test)], early_stopping_rounds=300, verbose = False)#erly100\n",
        "    preds=model.predict(X_test)\n",
        "\n",
        "    print(f'F1, fold {i}: {f1_score(y_test,preds)}')\n",
        "    i+=1                \n",
        "    oof_f1.append(f1_score(y_test,preds))\n",
        "    p2 = model.predict_proba(test_df[features])[:, -1]\n",
        "    oof_predictions.append(p2)\n",
        "    \n",
        "\n",
        "print(np.mean(oof_f1))"
      ],
      "id": "pressing-psychiatry",
      "execution_count": null,
      "outputs": [
        {
          "name": "stdout",
          "output_type": "stream",
          "text": [
            "F1, fold 1: 0.7142857142857143\n",
            "F1, fold 2: 0.9148418491484186\n",
            "F1, fold 3: 0.963680387409201\n",
            "F1, fold 4: 0.9256594724220625\n",
            "F1, fold 5: 0.9259259259259259\n",
            "0.8888786698382644\n"
          ]
        }
      ]
    },
    {
      "cell_type": "code",
      "metadata": {
        "id": "normal-harris"
      },
      "source": [],
      "id": "normal-harris",
      "execution_count": null,
      "outputs": []
    },
    {
      "cell_type": "code",
      "metadata": {
        "id": "greater-struggle",
        "outputId": "b36ef29e-adae-4f67-da0f-c21a595b5fe2"
      },
      "source": [
        "# 0.7831404345536787\n",
        "feature_importance_df = pd.DataFrame(model.feature_importances_, columns=['importance'])\n",
        "feature_importance_df['feature'] = new_data[features].columns\n",
        "\n",
        "plt.figure(figsize=(20, 12));\n",
        "sns.barplot(x=\"importance\", y=\"feature\", data=feature_importance_df.sort_values(by = ['importance'], ascending = False).head(60))\n",
        "plt.title('Model features importance:')"
      ],
      "id": "greater-struggle",
      "execution_count": null,
      "outputs": [
        {
          "data": {
            "text/plain": [
              "Text(0.5, 1.0, 'Model features importance:')"
            ]
          },
          "execution_count": 46,
          "metadata": {},
          "output_type": "execute_result"
        },
        {
          "data": {
            "image/png": "[encoded data removed]",
            "text/plain": [
              "<Figure size 1440x864 with 1 Axes>"
            ]
          },
          "metadata": {
            "needs_background": "light"
          },
          "output_type": "display_data"
        }
      ]
    },
    {
      "cell_type": "markdown",
      "metadata": {
        "id": "intense-maple"
      },
      "source": [
        "## Feature Selection"
      ],
      "id": "intense-maple"
    },
    {
      "cell_type": "code",
      "metadata": {
        "id": "addressed-summer"
      },
      "source": [
        "new_feat = feature_importance_df.sort_values(by = ['importance'], ascending = False).head(50)['feature'].to_list()"
      ],
      "id": "addressed-summer",
      "execution_count": null,
      "outputs": []
    },
    {
      "cell_type": "markdown",
      "metadata": {
        "id": "agricultural-society"
      },
      "source": [
        "## Hyperparameter Tuning"
      ],
      "id": "agricultural-society"
    },
    {
      "cell_type": "code",
      "metadata": {
        "id": "welcome-decrease"
      },
      "source": [
        "import optuna"
      ],
      "id": "welcome-decrease",
      "execution_count": null,
      "outputs": []
    },
    {
      "cell_type": "code",
      "metadata": {
        "id": "pleasant-naples"
      },
      "source": [
        "X = train_df[features]\n",
        "y = train_df[target]"
      ],
      "id": "pleasant-naples",
      "execution_count": null,
      "outputs": []
    },
    {
      "cell_type": "code",
      "metadata": {
        "id": "technological-analyst"
      },
      "source": [
        "X = train_df[new_feat]"
      ],
      "id": "technological-analyst",
      "execution_count": null,
      "outputs": []
    },
    {
      "cell_type": "code",
      "metadata": {
        "id": "rapid-builder"
      },
      "source": [
        "def objective(trial):\n",
        "    oof_f1=[]\n",
        "    oof_predictions=[]\n",
        "\n",
        "\n",
        "    param = {}\n",
        "#     param['objective'] = \"Logloss\"\n",
        "    param['learning_rate'] = trial.suggest_discrete_uniform(\"learning_rate\", 0.001, 0.1, 0.001)\n",
        "    param['depth'] = trial.suggest_int('depth', 3, 15)\n",
        "    param['l2_leaf_reg'] = trial.suggest_discrete_uniform('l2_leaf_reg', 1.0, 5.5, 0.5)\n",
        "    param['min_child_samples'] = trial.suggest_categorical('min_child_samples', [1, 4, 8, 16, 32])\n",
        "    param['iterations'] = trial.suggest_discrete_uniform(\"iterations\", 200, 2000, 50)\n",
        "    param['use_best_model'] = True\n",
        "    param[\"colsample_bylevel\"] =  trial.suggest_float(\"colsample_bylevel\", 0.01, 0.1)\n",
        "    param['random_state'] = 0\n",
        "    param['scale_pos_weight'] = trial.suggest_int('scale_pos_weight', 1, 10)\n",
        "    param['bootstrap_type'] = trial.suggest_categorical(\"bootstrap_type\", [\"Bayesian\", \"Bernoulli\", \"MVS\"])\n",
        "    param['logging_level'] = 'Silent'\n",
        "\n",
        "\n",
        "\n",
        "    fold=StratifiedKFold(n_splits=5)#15#5#10\n",
        "    i=1\n",
        "    for train_index, test_index in fold.split(X,y):\n",
        "        \n",
        "        X_train, X_test = X.iloc[train_index], X.iloc[test_index]\n",
        "        y_train, y_test = y.iloc[train_index], y.iloc[test_index]\n",
        "        model = CatBoostClassifier(**param)\n",
        "#         model = XGBClassifier(**param)\n",
        "    \n",
        "\n",
        "        model.fit(X_train,y_train,eval_set=[(X_train,y_train),(X_test, y_test)], early_stopping_rounds=200, verbose = False)#erly100\n",
        "        preds=model.predict(X_test)\n",
        "\n",
        "        oof_f1.append(f1_score(y_test,preds))\n",
        "\n",
        "    return np.mean(oof_f1)"
      ],
      "id": "rapid-builder",
      "execution_count": null,
      "outputs": []
    },
    {
      "cell_type": "code",
      "metadata": {
        "scrolled": true,
        "id": "interim-jerusalem",
        "outputId": "d32a4cb3-0520-4975-d19a-ae8fad9e9bb9"
      },
      "source": [
        "study = optuna.create_study(direction=\"maximize\")\n",
        "study.optimize(objective, n_trials=10000)"
      ],
      "id": "interim-jerusalem",
      "execution_count": null,
      "outputs": [
        {
          "name": "stderr",
          "output_type": "stream",
          "text": [
            "\u001b[32m[I 2021-11-12 09:43:58,147]\u001b[0m A new study created in memory with name: no-name-d284dc56-d7d9-4678-bd8e-48dd39858c21\u001b[0m\n",
            "\u001b[32m[I 2021-11-12 09:44:01,448]\u001b[0m Trial 0 finished with value: 0.4864872812470173 and parameters: {'learning_rate': 0.036000000000000004, 'depth': 9, 'l2_leaf_reg': 4.5, 'min_child_samples': 1, 'iterations': 200.0, 'colsample_bylevel': 0.028646014636188405, 'scale_pos_weight': 8, 'bootstrap_type': 'Bernoulli'}. Best is trial 0 with value: 0.4864872812470173.\u001b[0m\n",
            "\u001b[32m[I 2021-11-12 09:44:05,570]\u001b[0m Trial 1 finished with value: 0.5981293473730449 and parameters: {'learning_rate': 0.041, 'depth': 3, 'l2_leaf_reg': 1.0, 'min_child_samples': 4, 'iterations': 1000.0, 'colsample_bylevel': 0.09435852708343026, 'scale_pos_weight': 2, 'bootstrap_type': 'Bayesian'}. Best is trial 1 with value: 0.5981293473730449.\u001b[0m\n",
            "\u001b[32m[I 2021-11-12 09:44:08,212]\u001b[0m Trial 2 finished with value: 0.5260791502115089 and parameters: {'learning_rate': 0.099, 'depth': 7, 'l2_leaf_reg': 1.0, 'min_child_samples': 16, 'iterations': 1700.0, 'colsample_bylevel': 0.05034271611015454, 'scale_pos_weight': 7, 'bootstrap_type': 'Bernoulli'}. Best is trial 1 with value: 0.5981293473730449.\u001b[0m\n"
          ]
        }
      ]
    },
    {
      "cell_type": "code",
      "metadata": {
        "id": "architectural-phase",
        "outputId": "7e6e8952-55bf-4f80-d597-4144fcf8c857"
      },
      "source": [
        "print(\"Number of finished trials: {}\".format(len(study.trials)))\n",
        "\n",
        "print(\"Best trial:\")\n",
        "trial = study.best_trial\n",
        "\n",
        "print(\"  Value: {}\".format(trial.value))\n",
        "\n",
        "print(\"  Params: \")\n",
        "for key, value in trial.params.items():\n",
        "    print(\"    {}: {}\".format(key, value))"
      ],
      "id": "architectural-phase",
      "execution_count": null,
      "outputs": [
        {
          "name": "stdout",
          "output_type": "stream",
          "text": [
            "Number of finished trials: 3\n",
            "Best trial:\n",
            "  Value: 0.5981293473730449\n",
            "  Params: \n",
            "    learning_rate: 0.041\n",
            "    depth: 3\n",
            "    l2_leaf_reg: 1.0\n",
            "    min_child_samples: 4\n",
            "    iterations: 1000.0\n",
            "    colsample_bylevel: 0.09435852708343026\n",
            "    scale_pos_weight: 2\n",
            "    bootstrap_type: Bayesian\n"
          ]
        }
      ]
    },
    {
      "cell_type": "code",
      "metadata": {
        "id": "regular-livestock"
      },
      "source": [
        "new_feat2 = ['Year_of_Birth', 'Education_Level', 'Marital_Status',\n",
        "       'Disposable_Income', 'No_of_Kids_in_home', 'No_of_Teen_in_home',\n",
        "       'Recency', 'Discounted_Purchases', 'WebPurchases', 'CatalogPurchases',\n",
        "       'StorePurchases', 'Amount_on_Wines', 'Amount_on_Fruits',\n",
        "       'Amount_on_MeatProducts', 'Amount_on_FishProducts',\n",
        "       'Amount_on_SweetProducts', 'Amount_on_GoldProds', 'WebVisitsMonth',\n",
        "       'Cmp3Accepted', 'Cmp4Accepted', 'Cmp5Accepted', 'Cmp1Accepted',\n",
        "       'Cmp2Accepted', 'Any_Complain', 'year', 'month', 'quater',\n",
        "       'duration_days', 'duration_months', 'is_month_end', 'is_month_start']\n",
        "\n",
        "X = train_df[new_feat2]"
      ],
      "id": "regular-livestock",
      "execution_count": null,
      "outputs": []
    },
    {
      "cell_type": "code",
      "metadata": {
        "id": "confident-income"
      },
      "source": [
        "def objective(trial):\n",
        "    oof_f1=[]\n",
        "    oof_predictions=[]\n",
        "\n",
        "\n",
        "    param = {}\n",
        "#     param['objective'] = \"Logloss\"\n",
        "#     param['learning_rate'] = trial.suggest_discrete_uniform(\"learning_rate\", 0.001, 0.1, 0.001)\n",
        "#     param['depth'] = trial.suggest_int('depth', 3, 15)\n",
        "#     param['l2_leaf_reg'] = trial.suggest_discrete_uniform('l2_leaf_reg', 1.0, 5.5, 0.5)\n",
        "#     param['min_child_samples'] = trial.suggest_categorical('min_child_samples', [1, 4, 8, 16, 32])\n",
        "#     param['iterations'] = trial.suggest_discrete_uniform(\"iterations\", 200, 2000, 50)\n",
        "#     param['use_best_model'] = True\n",
        "#     param[\"colsample_bylevel\"] =  trial.suggest_float(\"colsample_bylevel\", 0.01, 0.1)\n",
        "#     param['random_state'] = 0\n",
        "    \n",
        "#     param['bootstrap_type'] = trial.suggest_categorical(\"bootstrap_type\", [\"Bayesian\", \"Bernoulli\", \"MVS\"])\n",
        "#     param['logging_level'] = 'Silent'\n",
        "    \n",
        "    param[\"learning_rate\"] = trial.suggest_float(\"learning_rate\", 1e-2, 0.25, log=True)\n",
        "#     param['reg_lambda'] = trial.suggest_loguniform(\"reg_lambda\", 1e-8, 100.0)\n",
        "#     param['reg_alpha'] = trial.suggest_loguniform(\"reg_alpha\", 1e-8, 100.0)\n",
        "    param['subsample'] = trial.suggest_float(\"subsample\", 0.1, 1.0)\n",
        "    param['colsample_bytree'] = trial.suggest_float(\"colsample_bytree\", 0.1, 1.0)\n",
        "    param['max_depth'] = trial.suggest_int(\"max_depth\", 5, 20)\n",
        "    param['scale_pos_weight'] = trial.suggest_int('scale_pos_weight', 3, 10)\n",
        "\n",
        "\n",
        "\n",
        "\n",
        "    fold=StratifiedKFold(n_splits=5)#15#5#10\n",
        "    i=1\n",
        "    for train_index, test_index in fold.split(X,y):\n",
        "        \n",
        "        X_train, X_test = X.iloc[train_index], X.iloc[test_index]\n",
        "        y_train, y_test = y.iloc[train_index], y.iloc[test_index]\n",
        "\n",
        "        model = LGBMClassifier(**param ,n_estimators=10000)\n",
        "\n",
        "    \n",
        "        model.fit(X_train,y_train,eval_set=[(X_train,y_train),(X_test, y_test)], early_stopping_rounds=300, verbose = False)#erly100\n",
        "        preds=model.predict(X_test)\n",
        "        oof_f1.append(f1_score(y_test,preds))\n",
        "\n",
        "    \n",
        "\n",
        "    return np.mean(oof_f1)"
      ],
      "id": "confident-income",
      "execution_count": null,
      "outputs": []
    },
    {
      "cell_type": "code",
      "metadata": {
        "scrolled": true,
        "id": "rapid-antenna",
        "outputId": "0300bb25-1a9f-46de-f53b-be46e214f349"
      },
      "source": [
        "study = optuna.create_study(direction=\"maximize\")\n",
        "study.optimize(objective, n_trials=10000)"
      ],
      "id": "rapid-antenna",
      "execution_count": null,
      "outputs": [
        {
          "name": "stderr",
          "output_type": "stream",
          "text": [
            "\u001b[32m[I 2021-11-12 09:44:09,382]\u001b[0m A new study created in memory with name: no-name-4cd4ed99-990c-46aa-9de4-3d4955e68e71\u001b[0m\n",
            "\u001b[32m[I 2021-11-12 09:44:10,850]\u001b[0m Trial 0 finished with value: 0.5870287001270807 and parameters: {'learning_rate': 0.20450013801019182, 'subsample': 0.32025097841830474, 'colsample_bytree': 0.21844219812502075, 'max_depth': 18, 'scale_pos_weight': 10}. Best is trial 0 with value: 0.5870287001270807.\u001b[0m\n",
            "\u001b[32m[I 2021-11-12 09:44:14,072]\u001b[0m Trial 1 finished with value: 0.6030874206965289 and parameters: {'learning_rate': 0.012739141774471972, 'subsample': 0.8569163782381528, 'colsample_bytree': 0.3522506136314564, 'max_depth': 10, 'scale_pos_weight': 7}. Best is trial 1 with value: 0.6030874206965289.\u001b[0m\n",
            "\u001b[32m[I 2021-11-12 09:44:15,971]\u001b[0m Trial 2 finished with value: 0.585776722298287 and parameters: {'learning_rate': 0.03882717359762249, 'subsample': 0.27470469495133554, 'colsample_bytree': 0.7947172194075652, 'max_depth': 7, 'scale_pos_weight': 4}. Best is trial 1 with value: 0.6030874206965289.\u001b[0m\n"
          ]
        }
      ]
    },
    {
      "cell_type": "code",
      "metadata": {
        "id": "generic-great",
        "outputId": "585ee5c5-c56e-4b16-aef8-e3f1ac0c5b08"
      },
      "source": [
        "print(\"Number of finished trials: {}\".format(len(study.trials)))\n",
        "\n",
        "print(\"Best trial:\")\n",
        "trial = study.best_trial\n",
        "\n",
        "print(\"  Value: {}\".format(trial.value))\n",
        "\n",
        "print(\"  Params: \")\n",
        "for key, value in trial.params.items():\n",
        "    print(\"    {}: {}\".format(key, value))"
      ],
      "id": "generic-great",
      "execution_count": null,
      "outputs": [
        {
          "name": "stdout",
          "output_type": "stream",
          "text": [
            "Number of finished trials: 3\n",
            "Best trial:\n",
            "  Value: 0.6030874206965289\n",
            "  Params: \n",
            "    learning_rate: 0.012739141774471972\n",
            "    subsample: 0.8569163782381528\n",
            "    colsample_bytree: 0.3522506136314564\n",
            "    max_depth: 10\n",
            "    scale_pos_weight: 7\n"
          ]
        }
      ]
    },
    {
      "cell_type": "code",
      "metadata": {
        "id": "paperback-executive",
        "outputId": "3f7c6681-f616-4bfe-893a-f9b31fabc413"
      },
      "source": [
        "trial.params"
      ],
      "id": "paperback-executive",
      "execution_count": null,
      "outputs": [
        {
          "data": {
            "text/plain": [
              "{'learning_rate': 0.012739141774471972,\n",
              " 'subsample': 0.8569163782381528,\n",
              " 'colsample_bytree': 0.3522506136314564,\n",
              " 'max_depth': 10,\n",
              " 'scale_pos_weight': 7}"
            ]
          },
          "execution_count": 58,
          "metadata": {},
          "output_type": "execute_result"
        }
      ]
    },
    {
      "cell_type": "code",
      "metadata": {
        "id": "alert-spiritual",
        "outputId": "4f0c71d4-d80b-43e8-ed62-4074a1d81b82"
      },
      "source": [
        "oof_f1=[]\n",
        "lgb_oof_predictions=[]\n",
        "\n",
        "\n",
        "param = trial.params\n",
        "\n",
        "\n",
        "\n",
        "fold=StratifiedKFold(n_splits=5)#15#5#10\n",
        "i=1\n",
        "\n",
        "for train_index, test_index in fold.split(X_,y_):\n",
        "        \n",
        "    X_train, X_test = X_.iloc[train_index], X_.iloc[test_index]\n",
        "    y_train, y_test = y_.iloc[train_index], y_.iloc[test_index]\n",
        "    \n",
        "    model = LGBMClassifier(**param ,n_estimators=10000)\n",
        "\n",
        "    model.fit(X_train,y_train,eval_set=[(X_train,y_train),(X_test, y_test)], early_stopping_rounds=500, verbose = False)#erly100\n",
        "    preds=model.predict(X_test)\n",
        "    print(\"err: \",f1_score(y_test,preds))\n",
        "    oof_f1.append(f1_score(y_test,preds))\n",
        "    p2 = model.predict_proba(test_df[X_.columns])[:, -1]\n",
        "    lgb_oof_predictions.append(p2)\n",
        "    \n",
        "print(np.mean(oof_f1))"
      ],
      "id": "alert-spiritual",
      "execution_count": null,
      "outputs": [
        {
          "name": "stdout",
          "output_type": "stream",
          "text": [
            "err:  0.8350515463917526\n",
            "err:  0.9129411764705883\n",
            "err:  0.9569377990430622\n",
            "err:  0.91415313225058\n",
            "err:  0.9029345372460497\n",
            "0.9044036382804066\n"
          ]
        }
      ]
    },
    {
      "cell_type": "code",
      "metadata": {
        "jupyter": {
          "source_hidden": true
        },
        "id": "pretty-category"
      },
      "source": [
        "# Trial 3100 finished with value: 0.9395282013444826 and parameters: {'learning_rate': 0.042, 'depth': 3,\n",
        "#                                                                   'l2_leaf_reg': 1.5, 'min_child_samples': 8, \n",
        "#                                                                   'iterations': 1400.0, 'colsample_bylevel': 0.03307446978765261,\n",
        "#                                                                   'scale_pos_weight': 4, 'bootstrap_type': 'MVS'}. Best is trial 31 with value: 0.9795282013444826."
      ],
      "id": "pretty-category",
      "execution_count": null,
      "outputs": []
    },
    {
      "cell_type": "code",
      "metadata": {
        "id": "deluxe-avatar"
      },
      "source": [
        "# pred = np.max(oof_predictions, axis=0)"
      ],
      "id": "deluxe-avatar",
      "execution_count": null,
      "outputs": []
    },
    {
      "cell_type": "code",
      "metadata": {
        "id": "bridal-buyer"
      },
      "source": [
        "pred_lgb = pd.DataFrame(lgb_oof_predictions).T"
      ],
      "id": "bridal-buyer",
      "execution_count": null,
      "outputs": []
    },
    {
      "cell_type": "code",
      "metadata": {
        "id": "sunrise-worse"
      },
      "source": [
        "pred_cat = pd.DataFrame(cat_oof_predictions).T"
      ],
      "id": "sunrise-worse",
      "execution_count": null,
      "outputs": []
    },
    {
      "cell_type": "code",
      "metadata": {
        "id": "prescribed-buying",
        "outputId": "12524669-4ca7-452b-869a-bc17a36b15fc"
      },
      "source": [
        "pred_lgb.head()"
      ],
      "id": "prescribed-buying",
      "execution_count": null,
      "outputs": [
        {
          "data": {
            "text/html": [
              "<div>\n",
              "<style scoped>\n",
              "    .dataframe tbody tr th:only-of-type {\n",
              "        vertical-align: middle;\n",
              "    }\n",
              "\n",
              "    .dataframe tbody tr th {\n",
              "        vertical-align: top;\n",
              "    }\n",
              "\n",
              "    .dataframe thead th {\n",
              "        text-align: right;\n",
              "    }\n",
              "</style>\n",
              "<table border=\"1\" class=\"dataframe\">\n",
              "  <thead>\n",
              "    <tr style=\"text-align: right;\">\n",
              "      <th></th>\n",
              "      <th>0</th>\n",
              "      <th>1</th>\n",
              "      <th>2</th>\n",
              "      <th>3</th>\n",
              "      <th>4</th>\n",
              "    </tr>\n",
              "  </thead>\n",
              "  <tbody>\n",
              "    <tr>\n",
              "      <th>0</th>\n",
              "      <td>0.022152</td>\n",
              "      <td>0.030557</td>\n",
              "      <td>0.019294</td>\n",
              "      <td>0.028637</td>\n",
              "      <td>0.026282</td>\n",
              "    </tr>\n",
              "    <tr>\n",
              "      <th>1</th>\n",
              "      <td>0.357654</td>\n",
              "      <td>0.856093</td>\n",
              "      <td>0.742089</td>\n",
              "      <td>0.920183</td>\n",
              "      <td>0.786051</td>\n",
              "    </tr>\n",
              "    <tr>\n",
              "      <th>2</th>\n",
              "      <td>0.012190</td>\n",
              "      <td>0.000854</td>\n",
              "      <td>0.000055</td>\n",
              "      <td>0.002661</td>\n",
              "      <td>0.001016</td>\n",
              "    </tr>\n",
              "    <tr>\n",
              "      <th>3</th>\n",
              "      <td>0.248413</td>\n",
              "      <td>0.242642</td>\n",
              "      <td>0.273390</td>\n",
              "      <td>0.224459</td>\n",
              "      <td>0.244230</td>\n",
              "    </tr>\n",
              "    <tr>\n",
              "      <th>4</th>\n",
              "      <td>0.126614</td>\n",
              "      <td>0.032758</td>\n",
              "      <td>0.004628</td>\n",
              "      <td>0.057336</td>\n",
              "      <td>0.069057</td>\n",
              "    </tr>\n",
              "  </tbody>\n",
              "</table>\n",
              "</div>"
            ],
            "text/plain": [
              "          0         1         2         3         4\n",
              "0  0.022152  0.030557  0.019294  0.028637  0.026282\n",
              "1  0.357654  0.856093  0.742089  0.920183  0.786051\n",
              "2  0.012190  0.000854  0.000055  0.002661  0.001016\n",
              "3  0.248413  0.242642  0.273390  0.224459  0.244230\n",
              "4  0.126614  0.032758  0.004628  0.057336  0.069057"
            ]
          },
          "execution_count": 68,
          "metadata": {},
          "output_type": "execute_result"
        }
      ]
    },
    {
      "cell_type": "code",
      "metadata": {
        "id": "stable-payment",
        "outputId": "3535a0a6-a004-4b1e-e445-a1f7baf5f67f"
      },
      "source": [
        "pred_cat.head()"
      ],
      "id": "stable-payment",
      "execution_count": null,
      "outputs": [
        {
          "data": {
            "text/html": [
              "<div>\n",
              "<style scoped>\n",
              "    .dataframe tbody tr th:only-of-type {\n",
              "        vertical-align: middle;\n",
              "    }\n",
              "\n",
              "    .dataframe tbody tr th {\n",
              "        vertical-align: top;\n",
              "    }\n",
              "\n",
              "    .dataframe thead th {\n",
              "        text-align: right;\n",
              "    }\n",
              "</style>\n",
              "<table border=\"1\" class=\"dataframe\">\n",
              "  <thead>\n",
              "    <tr style=\"text-align: right;\">\n",
              "      <th></th>\n",
              "      <th>0</th>\n",
              "      <th>1</th>\n",
              "      <th>2</th>\n",
              "      <th>3</th>\n",
              "      <th>4</th>\n",
              "    </tr>\n",
              "  </thead>\n",
              "  <tbody>\n",
              "    <tr>\n",
              "      <th>0</th>\n",
              "      <td>0.025114</td>\n",
              "      <td>0.295690</td>\n",
              "      <td>0.091996</td>\n",
              "      <td>0.063676</td>\n",
              "      <td>0.128109</td>\n",
              "    </tr>\n",
              "    <tr>\n",
              "      <th>1</th>\n",
              "      <td>0.552163</td>\n",
              "      <td>0.462138</td>\n",
              "      <td>0.572642</td>\n",
              "      <td>0.446766</td>\n",
              "      <td>0.407772</td>\n",
              "    </tr>\n",
              "    <tr>\n",
              "      <th>2</th>\n",
              "      <td>0.024030</td>\n",
              "      <td>0.009682</td>\n",
              "      <td>0.007385</td>\n",
              "      <td>0.006243</td>\n",
              "      <td>0.005405</td>\n",
              "    </tr>\n",
              "    <tr>\n",
              "      <th>3</th>\n",
              "      <td>0.648427</td>\n",
              "      <td>0.222845</td>\n",
              "      <td>0.632849</td>\n",
              "      <td>0.445094</td>\n",
              "      <td>0.526458</td>\n",
              "    </tr>\n",
              "    <tr>\n",
              "      <th>4</th>\n",
              "      <td>0.162552</td>\n",
              "      <td>0.145610</td>\n",
              "      <td>0.199396</td>\n",
              "      <td>0.027934</td>\n",
              "      <td>0.123657</td>\n",
              "    </tr>\n",
              "  </tbody>\n",
              "</table>\n",
              "</div>"
            ],
            "text/plain": [
              "          0         1         2         3         4\n",
              "0  0.025114  0.295690  0.091996  0.063676  0.128109\n",
              "1  0.552163  0.462138  0.572642  0.446766  0.407772\n",
              "2  0.024030  0.009682  0.007385  0.006243  0.005405\n",
              "3  0.648427  0.222845  0.632849  0.445094  0.526458\n",
              "4  0.162552  0.145610  0.199396  0.027934  0.123657"
            ]
          },
          "execution_count": 69,
          "metadata": {},
          "output_type": "execute_result"
        }
      ]
    },
    {
      "cell_type": "code",
      "metadata": {
        "id": "standard-swedish"
      },
      "source": [
        "all_pred = pred_lgb.join(pred_cat, lsuffix=\"_lgb\", rsuffix=\"_cat\")"
      ],
      "id": "standard-swedish",
      "execution_count": null,
      "outputs": []
    },
    {
      "cell_type": "code",
      "metadata": {
        "id": "generous-functionality",
        "outputId": "e80e1506-b564-414d-8ba9-0e8d3deedf0b"
      },
      "source": [
        "all_pred.head()"
      ],
      "id": "generous-functionality",
      "execution_count": null,
      "outputs": [
        {
          "data": {
            "text/html": [
              "<div>\n",
              "<style scoped>\n",
              "    .dataframe tbody tr th:only-of-type {\n",
              "        vertical-align: middle;\n",
              "    }\n",
              "\n",
              "    .dataframe tbody tr th {\n",
              "        vertical-align: top;\n",
              "    }\n",
              "\n",
              "    .dataframe thead th {\n",
              "        text-align: right;\n",
              "    }\n",
              "</style>\n",
              "<table border=\"1\" class=\"dataframe\">\n",
              "  <thead>\n",
              "    <tr style=\"text-align: right;\">\n",
              "      <th></th>\n",
              "      <th>0_lgb</th>\n",
              "      <th>1_lgb</th>\n",
              "      <th>2_lgb</th>\n",
              "      <th>3_lgb</th>\n",
              "      <th>4_lgb</th>\n",
              "      <th>0_cat</th>\n",
              "      <th>1_cat</th>\n",
              "      <th>2_cat</th>\n",
              "      <th>3_cat</th>\n",
              "      <th>4_cat</th>\n",
              "    </tr>\n",
              "  </thead>\n",
              "  <tbody>\n",
              "    <tr>\n",
              "      <th>0</th>\n",
              "      <td>0.022152</td>\n",
              "      <td>0.030557</td>\n",
              "      <td>0.019294</td>\n",
              "      <td>0.028637</td>\n",
              "      <td>0.026282</td>\n",
              "      <td>0.025114</td>\n",
              "      <td>0.295690</td>\n",
              "      <td>0.091996</td>\n",
              "      <td>0.063676</td>\n",
              "      <td>0.128109</td>\n",
              "    </tr>\n",
              "    <tr>\n",
              "      <th>1</th>\n",
              "      <td>0.357654</td>\n",
              "      <td>0.856093</td>\n",
              "      <td>0.742089</td>\n",
              "      <td>0.920183</td>\n",
              "      <td>0.786051</td>\n",
              "      <td>0.552163</td>\n",
              "      <td>0.462138</td>\n",
              "      <td>0.572642</td>\n",
              "      <td>0.446766</td>\n",
              "      <td>0.407772</td>\n",
              "    </tr>\n",
              "    <tr>\n",
              "      <th>2</th>\n",
              "      <td>0.012190</td>\n",
              "      <td>0.000854</td>\n",
              "      <td>0.000055</td>\n",
              "      <td>0.002661</td>\n",
              "      <td>0.001016</td>\n",
              "      <td>0.024030</td>\n",
              "      <td>0.009682</td>\n",
              "      <td>0.007385</td>\n",
              "      <td>0.006243</td>\n",
              "      <td>0.005405</td>\n",
              "    </tr>\n",
              "    <tr>\n",
              "      <th>3</th>\n",
              "      <td>0.248413</td>\n",
              "      <td>0.242642</td>\n",
              "      <td>0.273390</td>\n",
              "      <td>0.224459</td>\n",
              "      <td>0.244230</td>\n",
              "      <td>0.648427</td>\n",
              "      <td>0.222845</td>\n",
              "      <td>0.632849</td>\n",
              "      <td>0.445094</td>\n",
              "      <td>0.526458</td>\n",
              "    </tr>\n",
              "    <tr>\n",
              "      <th>4</th>\n",
              "      <td>0.126614</td>\n",
              "      <td>0.032758</td>\n",
              "      <td>0.004628</td>\n",
              "      <td>0.057336</td>\n",
              "      <td>0.069057</td>\n",
              "      <td>0.162552</td>\n",
              "      <td>0.145610</td>\n",
              "      <td>0.199396</td>\n",
              "      <td>0.027934</td>\n",
              "      <td>0.123657</td>\n",
              "    </tr>\n",
              "  </tbody>\n",
              "</table>\n",
              "</div>"
            ],
            "text/plain": [
              "      0_lgb     1_lgb     2_lgb     3_lgb     4_lgb     0_cat     1_cat  \\\n",
              "0  0.022152  0.030557  0.019294  0.028637  0.026282  0.025114  0.295690   \n",
              "1  0.357654  0.856093  0.742089  0.920183  0.786051  0.552163  0.462138   \n",
              "2  0.012190  0.000854  0.000055  0.002661  0.001016  0.024030  0.009682   \n",
              "3  0.248413  0.242642  0.273390  0.224459  0.244230  0.648427  0.222845   \n",
              "4  0.126614  0.032758  0.004628  0.057336  0.069057  0.162552  0.145610   \n",
              "\n",
              "      2_cat     3_cat     4_cat  \n",
              "0  0.091996  0.063676  0.128109  \n",
              "1  0.572642  0.446766  0.407772  \n",
              "2  0.007385  0.006243  0.005405  \n",
              "3  0.632849  0.445094  0.526458  \n",
              "4  0.199396  0.027934  0.123657  "
            ]
          },
          "execution_count": 71,
          "metadata": {},
          "output_type": "execute_result"
        }
      ]
    },
    {
      "cell_type": "markdown",
      "metadata": {
        "id": "minimal-trace"
      },
      "source": [
        "## Submission"
      ],
      "id": "minimal-trace"
    },
    {
      "cell_type": "code",
      "metadata": {
        "id": "destroyed-tunnel"
      },
      "source": [
        "mean_pred = all_pred.mean(axis = 1)"
      ],
      "id": "destroyed-tunnel",
      "execution_count": null,
      "outputs": []
    },
    {
      "cell_type": "code",
      "metadata": {
        "id": "affected-border"
      },
      "source": [
        "pred = np.where(mean_pred > 0.45, 1 , 0)"
      ],
      "id": "affected-border",
      "execution_count": null,
      "outputs": []
    },
    {
      "cell_type": "code",
      "metadata": {
        "id": "center-nebraska",
        "outputId": "2bec414c-e7c7-422b-a7d5-c3de33c41869"
      },
      "source": [
        "pd.Series(pred).head()"
      ],
      "id": "center-nebraska",
      "execution_count": null,
      "outputs": [
        {
          "data": {
            "text/plain": [
              "0    0\n",
              "1    1\n",
              "2    0\n",
              "3    0\n",
              "4    0\n",
              "dtype: int64"
            ]
          },
          "execution_count": 74,
          "metadata": {},
          "output_type": "execute_result"
        }
      ]
    },
    {
      "cell_type": "code",
      "metadata": {
        "id": "above-philippines"
      },
      "source": [
        "sub = pd.read_csv('data/SampleSubmission.csv')"
      ],
      "id": "above-philippines",
      "execution_count": null,
      "outputs": []
    },
    {
      "cell_type": "code",
      "metadata": {
        "id": "reasonable-ukraine"
      },
      "source": [
        "sub['Response'] = pred"
      ],
      "id": "reasonable-ukraine",
      "execution_count": null,
      "outputs": []
    },
    {
      "cell_type": "code",
      "metadata": {
        "id": "trying-germany"
      },
      "source": [
        "sub.to_csv('submit_lgb_cat_5fold.csv', index = False)"
      ],
      "id": "trying-germany",
      "execution_count": null,
      "outputs": []
    }
  ]
}